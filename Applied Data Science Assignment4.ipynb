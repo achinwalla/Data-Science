{
 "cells": [
  {
   "cell_type": "markdown",
   "metadata": {},
   "source": [
    "---\n",
    "\n",
    "_You are currently looking at **version 1.1** of this notebook. To download notebooks and datafiles, as well as get help on Jupyter notebooks in the Coursera platform, visit the [Jupyter Notebook FAQ](https://www.coursera.org/learn/python-data-analysis/resources/0dhYG) course resource._\n",
    "\n",
    "---"
   ]
  },
  {
   "cell_type": "code",
   "execution_count": 1,
   "metadata": {},
   "outputs": [],
   "source": [
    "import pandas as pd\n",
    "import numpy as np\n",
    "from scipy.stats import ttest_ind"
   ]
  },
  {
   "cell_type": "markdown",
   "metadata": {},
   "source": [
    "# Assignment 4 - Hypothesis Testing\n",
    "This assignment requires more individual learning than previous assignments - you are encouraged to check out the [pandas documentation](http://pandas.pydata.org/pandas-docs/stable/) to find functions or methods you might not have used yet, or ask questions on [Stack Overflow](http://stackoverflow.com/) and tag them as pandas and python related. And of course, the discussion forums are open for interaction with your peers and the course staff.\n",
    "\n",
    "Definitions:\n",
    "* A _quarter_ is a specific three month period, Q1 is January through March, Q2 is April through June, Q3 is July through September, Q4 is October through December.\n",
    "* A _recession_ is defined as starting with two consecutive quarters of GDP decline, and ending with two consecutive quarters of GDP growth.\n",
    "* A _recession bottom_ is the quarter within a recession which had the lowest GDP.\n",
    "* A _university town_ is a city which has a high percentage of university students compared to the total population of the city.\n",
    "\n",
    "**Hypothesis**: University towns have their mean housing prices less effected by recessions. Run a t-test to compare the ratio of the mean price of houses in university towns the quarter before the recession starts compared to the recession bottom. (`price_ratio=quarter_before_recession/recession_bottom`)\n",
    "\n",
    "The following data files are available for this assignment:\n",
    "* From the [Zillow research data site](http://www.zillow.com/research/data/) there is housing data for the United States. In particular the datafile for [all homes at a city level](http://files.zillowstatic.com/research/public/City/City_Zhvi_AllHomes.csv), ```City_Zhvi_AllHomes.csv```, has median home sale prices at a fine grained level.\n",
    "* From the Wikipedia page on college towns is a list of [university towns in the United States](https://en.wikipedia.org/wiki/List_of_college_towns#College_towns_in_the_United_States) which has been copy and pasted into the file ```university_towns.txt```.\n",
    "* From Bureau of Economic Analysis, US Department of Commerce, the [GDP over time](http://www.bea.gov/national/index.htm#gdp) of the United States in current dollars (use the chained value in 2009 dollars), in quarterly intervals, in the file ```gdplev.xls```. For this assignment, only look at GDP data from the first quarter of 2000 onward.\n",
    "\n",
    "Each function in this assignment below is worth 10%, with the exception of ```run_ttest()```, which is worth 50%."
   ]
  },
  {
   "cell_type": "code",
   "execution_count": 2,
   "metadata": {},
   "outputs": [],
   "source": [
    "# Use this dictionary to map state names to two letter acronyms\n",
    "states = {'OH': 'Ohio', 'KY': 'Kentucky', 'AS': 'American Samoa', 'NV': 'Nevada', 'WY': 'Wyoming', 'NA': 'National', 'AL': 'Alabama', 'MD': 'Maryland', 'AK': 'Alaska', 'UT': 'Utah', 'OR': 'Oregon', 'MT': 'Montana', 'IL': 'Illinois', 'TN': 'Tennessee', 'DC': 'District of Columbia', 'VT': 'Vermont', 'ID': 'Idaho', 'AR': 'Arkansas', 'ME': 'Maine', 'WA': 'Washington', 'HI': 'Hawaii', 'WI': 'Wisconsin', 'MI': 'Michigan', 'IN': 'Indiana', 'NJ': 'New Jersey', 'AZ': 'Arizona', 'GU': 'Guam', 'MS': 'Mississippi', 'PR': 'Puerto Rico', 'NC': 'North Carolina', 'TX': 'Texas', 'SD': 'South Dakota', 'MP': 'Northern Mariana Islands', 'IA': 'Iowa', 'MO': 'Missouri', 'CT': 'Connecticut', 'WV': 'West Virginia', 'SC': 'South Carolina', 'LA': 'Louisiana', 'KS': 'Kansas', 'NY': 'New York', 'NE': 'Nebraska', 'OK': 'Oklahoma', 'FL': 'Florida', 'CA': 'California', 'CO': 'Colorado', 'PA': 'Pennsylvania', 'DE': 'Delaware', 'NM': 'New Mexico', 'RI': 'Rhode Island', 'MN': 'Minnesota', 'VI': 'Virgin Islands', 'NH': 'New Hampshire', 'MA': 'Massachusetts', 'GA': 'Georgia', 'ND': 'North Dakota', 'VA': 'Virginia'}"
   ]
  },
  {
   "cell_type": "code",
   "execution_count": 325,
   "metadata": {
    "umich_part_id": "021",
    "umich_partlist_id": "004"
   },
   "outputs": [
    {
     "data": {
      "text/html": [
       "<div>\n",
       "<style scoped>\n",
       "    .dataframe tbody tr th:only-of-type {\n",
       "        vertical-align: middle;\n",
       "    }\n",
       "\n",
       "    .dataframe tbody tr th {\n",
       "        vertical-align: top;\n",
       "    }\n",
       "\n",
       "    .dataframe thead th {\n",
       "        text-align: right;\n",
       "    }\n",
       "</style>\n",
       "<table border=\"1\" class=\"dataframe\">\n",
       "  <thead>\n",
       "    <tr style=\"text-align: right;\">\n",
       "      <th></th>\n",
       "      <th>State</th>\n",
       "      <th>RegionName</th>\n",
       "    </tr>\n",
       "  </thead>\n",
       "  <tbody>\n",
       "    <tr>\n",
       "      <td>0</td>\n",
       "      <td>Alabama</td>\n",
       "      <td>Auburn</td>\n",
       "    </tr>\n",
       "    <tr>\n",
       "      <td>1</td>\n",
       "      <td>Alabama</td>\n",
       "      <td>Florence</td>\n",
       "    </tr>\n",
       "    <tr>\n",
       "      <td>2</td>\n",
       "      <td>Alabama</td>\n",
       "      <td>Jacksonville</td>\n",
       "    </tr>\n",
       "    <tr>\n",
       "      <td>3</td>\n",
       "      <td>Alabama</td>\n",
       "      <td>Livingston</td>\n",
       "    </tr>\n",
       "    <tr>\n",
       "      <td>4</td>\n",
       "      <td>Alabama</td>\n",
       "      <td>Montevallo</td>\n",
       "    </tr>\n",
       "    <tr>\n",
       "      <td>5</td>\n",
       "      <td>Alabama</td>\n",
       "      <td>Troy</td>\n",
       "    </tr>\n",
       "    <tr>\n",
       "      <td>6</td>\n",
       "      <td>Alabama</td>\n",
       "      <td>Tuscaloosa</td>\n",
       "    </tr>\n",
       "    <tr>\n",
       "      <td>7</td>\n",
       "      <td>Alabama</td>\n",
       "      <td>Tuskegee</td>\n",
       "    </tr>\n",
       "    <tr>\n",
       "      <td>8</td>\n",
       "      <td>Alaska</td>\n",
       "      <td>Fairbanks</td>\n",
       "    </tr>\n",
       "    <tr>\n",
       "      <td>9</td>\n",
       "      <td>Arizona</td>\n",
       "      <td>Flagstaff</td>\n",
       "    </tr>\n",
       "  </tbody>\n",
       "</table>\n",
       "</div>"
      ],
      "text/plain": [
       "     State    RegionName\n",
       "0  Alabama        Auburn\n",
       "1  Alabama      Florence\n",
       "2  Alabama  Jacksonville\n",
       "3  Alabama    Livingston\n",
       "4  Alabama    Montevallo\n",
       "5  Alabama          Troy\n",
       "6  Alabama    Tuscaloosa\n",
       "7  Alabama      Tuskegee\n",
       "8   Alaska     Fairbanks\n",
       "9  Arizona     Flagstaff"
      ]
     },
     "execution_count": 325,
     "metadata": {},
     "output_type": "execute_result"
    }
   ],
   "source": [
    "def get_list_of_university_towns():\n",
    "    '''Returns a DataFrame of towns and the states they are in from the \n",
    "    university_towns.txt list. The format of the DataFrame should be:\n",
    "    DataFrame( [ [\"Michigan\", \"Ann Arbor\"], [\"Michigan\", \"Yipsilanti\"] ], \n",
    "    columns=[\"State\", \"RegionName\"]  )\n",
    "    \n",
    "    The following cleaning needs to be done:\n",
    "\n",
    "    1. For \"State\", removing characters from \"[\" to the end.\n",
    "    2. For \"RegionName\", when applicable, removing every character from \" (\" to the end.\n",
    "    3. Depending on how you read the data, you may need to remove newline character '\\n'. '''\n",
    "    \n",
    "    # Read in data\n",
    "    towns_raw = pd.read_csv(\"university_towns.txt\", sep='\\t',header = None)\n",
    "    towns = towns_raw.copy()\n",
    "    \n",
    "    # Clean Columns\n",
    "    towns['State'] = towns.apply(lambda df: df[0].split('[',1)[0] if df[0].find('edit') > 0 else np.nan,axis = 1).ffill()\n",
    "    towns['RegionName'] = towns.apply(lambda df: df[0].split('(',1)[0].rstrip() if df[0].find('edit') < 0 else np.nan,axis = 1)\n",
    "    towns = towns.dropna().reset_index()\n",
    "    towns = towns[['State','RegionName']]\n",
    "    \n",
    "    # Return list of states & regions\n",
    "    return towns\n",
    "\n",
    "get_list_of_university_towns().head(10)"
   ]
  },
  {
   "cell_type": "code",
   "execution_count": 24,
   "metadata": {
    "umich_part_id": "022",
    "umich_partlist_id": "004"
   },
   "outputs": [
    {
     "data": {
      "text/plain": [
       "0    1949q1\n",
       "1    1953q3\n",
       "2    1957q4\n",
       "3    2008q4\n",
       "Name: Year_Quarter_lag, dtype: object"
      ]
     },
     "execution_count": 24,
     "metadata": {},
     "output_type": "execute_result"
    }
   ],
   "source": [
    "def get_recession_start():\n",
    "    '''Returns the year and quarter of the recession start time as a \n",
    "    string value in a format such as 2005q3\n",
    "    A recession is defined as starting with two consecutive quarters of GDP decline'''\n",
    "    \n",
    "    # Read in Data\n",
    "    gdp_raw = pd.read_excel(\"gdplev.xls\",skiprows = 7)\n",
    "    \n",
    "    # Rename columns & calculate lagged variables\n",
    "    gdp = (gdp_raw.copy()\n",
    "       .rename(columns = {'Unnamed: 0':'Year','Unnamed: 1':'GDP_Current_Dollars','Unnamed: 2':'GDP_2009_Dollars',\n",
    "                          'Unnamed: 4':'Year_Quarter', 'Unnamed: 5': 'GDP_Current_Dollars_Quarter', 'Unnamed: 6': 'GDP_2009_Dollars_Quarter'})\n",
    "       .assign(GDP_Quarter_lag = gdp_raw['Unnamed: 5'].shift(),\n",
    "              GDP_diff = gdp_raw['Unnamed: 5'] - gdp_raw['Unnamed: 5'].shift(),\n",
    "              GDP_diff_lag = (gdp_raw['Unnamed: 5'] - gdp_raw['Unnamed: 5'].shift()).shift(),\n",
    "              Year_Quarter_lag = gdp_raw['Unnamed: 4'].shift())\n",
    "      )\n",
    "    \n",
    "    # Define \"recession\" quarters & identify \"recession start\"\n",
    "    gdp['recession'] = gdp.apply(lambda df: 1 if (df['GDP_diff'] < 0) & (df['GDP_diff_lag'] < 0) else (0 if (df['GDP_diff'] >= 0) & (df['GDP_diff_lag'] >= 0) else np.nan),axis = 1).ffill()\n",
    "    gdp['recession_lag'] = gdp['recession'].shift()\n",
    "    recession_start = gdp[(gdp['recession'] == 1) & (gdp['recession_lag'] == 0)].reset_index()\n",
    "    \n",
    "    # Return list of year-quarters when a recession began\n",
    "    return recession_start['Year_Quarter_lag']\n",
    "\n",
    "get_recession_start()"
   ]
  },
  {
   "cell_type": "code",
   "execution_count": 22,
   "metadata": {
    "umich_part_id": "023",
    "umich_partlist_id": "004"
   },
   "outputs": [
    {
     "data": {
      "text/plain": [
       "0    1950q2\n",
       "1    1954q3\n",
       "2    1958q3\n",
       "3    2009q4\n",
       "Name: Year_Quarter, dtype: object"
      ]
     },
     "execution_count": 22,
     "metadata": {},
     "output_type": "execute_result"
    }
   ],
   "source": [
    "def get_recession_end():\n",
    "    \n",
    "    # Read in raw data\n",
    "    gdp_raw = pd.read_excel(\"gdplev.xls\",skiprows = 7)\n",
    "    \n",
    "    # Rename columns and calculate lagged variables\n",
    "    gdp = (gdp_raw.copy()\n",
    "       .rename(columns = {'Unnamed: 0':'Year','Unnamed: 1':'GDP_Current_Dollars','Unnamed: 2':'GDP_2009_Dollars',\n",
    "                          'Unnamed: 4':'Year_Quarter', 'Unnamed: 5': 'GDP_Current_Dollars_Quarter', 'Unnamed: 6': 'GDP_2009_Dollars_Quarter'})\n",
    "       .assign(GDP_Quarter_lag = gdp_raw['Unnamed: 5'].shift(),\n",
    "              GDP_diff = gdp_raw['Unnamed: 5'] - gdp_raw['Unnamed: 5'].shift(),\n",
    "              GDP_diff_lag = (gdp_raw['Unnamed: 5'] - gdp_raw['Unnamed: 5'].shift()).shift()\n",
    "               )\n",
    "      )\n",
    "    \n",
    "    # Define \"recession\" quarters & identify \"recession end\"\n",
    "    gdp['recession'] = gdp.apply(lambda df: 1 if (df['GDP_diff'] < 0) & (df['GDP_diff_lag'] < 0) else (0 if (df['GDP_diff'] >= 0) & (df['GDP_diff_lag'] >= 0) else np.nan),axis = 1)\n",
    "    gdp['recession'] = gdp['recession'].ffill()\n",
    "    gdp['recession_lag'] = gdp['recession'].shift()\n",
    "    recession_end = gdp[(gdp['recession'] == 0) & (gdp['recession_lag'] == 1)].reset_index()\n",
    "\n",
    "    # Return list of year-quarters when a recession ended\n",
    "    return recession_end['Year_Quarter']\n",
    "\n",
    "get_recession_end()"
   ]
  },
  {
   "cell_type": "code",
   "execution_count": 21,
   "metadata": {
    "umich_part_id": "024",
    "umich_partlist_id": "004"
   },
   "outputs": [
    {
     "data": {
      "text/plain": [
       "0    1949q4\n",
       "1    1954q1\n",
       "2    1958q1\n",
       "3    2009q2\n",
       "Name: Year_Quarter, dtype: object"
      ]
     },
     "execution_count": 21,
     "metadata": {},
     "output_type": "execute_result"
    }
   ],
   "source": [
    "def get_recession_bottom():\n",
    "    '''Returns the year and quarter of the recession bottom time as a \n",
    "    string value in a format such as 2005q3'''\n",
    "    \n",
    "    # Read in raw data\n",
    "    gdp_raw = pd.read_excel(\"gdplev.xls\",skiprows = 7)\n",
    "    \n",
    "    # Renamed columns and calculated lagged variables\n",
    "    gdp = (gdp_raw.copy()\n",
    "           .rename(columns = {'Unnamed: 0':'Year','Unnamed: 1':'GDP_Current_Dollars','Unnamed: 2':'GDP_2009_Dollars',\n",
    "                              'Unnamed: 4':'Year_Quarter', 'Unnamed: 5': 'GDP_Current_Dollars_Quarter', 'Unnamed: 6': 'GDP_2009_Dollars_Quarter'})\n",
    "           .assign(GDP_Quarter_lag = gdp_raw['Unnamed: 5'].shift(),\n",
    "                  GDP_diff = gdp_raw['Unnamed: 5'] - gdp_raw['Unnamed: 5'].shift(),\n",
    "                  GDP_diff_lag = (gdp_raw['Unnamed: 5'] - gdp_raw['Unnamed: 5'].shift()).shift()\n",
    "                   )\n",
    "          )\n",
    "    \n",
    "    # Group all the quarters in a single recession\n",
    "    gdp['recession'] = gdp.apply(lambda df: 1 if (df['GDP_diff'] < 0) & (df['GDP_diff_lag'] < 0) else (0 if (df['GDP_diff'] >- 0) & (df['GDP_diff_lag'] >= 0) else np.nan),axis = 1).ffill()\n",
    "    gdp['recession_lag'] = gdp['recession'].shift()\n",
    "    gdp['recession_group'] = gdp.apply(lambda df: df['Year_Quarter'] if (df['recession'] == 1) & (df['recession_lag'] == 0) else np.nan,axis=1).ffill()\n",
    "    min_GDP = pd.DataFrame(gdp.groupby('recession_group').GDP_Current_Dollars_Quarter.agg(min))\n",
    "\n",
    "    # Calculate minimum GDP per recession using group indicator\n",
    "    bottom = pd.merge(gdp, min_GDP, how='inner', left_on=['recession_group'], right_index=True)\n",
    "    bottom = bottom[bottom['GDP_Current_Dollars_Quarter_x'] == bottom['GDP_Current_Dollars_Quarter_y']].reset_index()\n",
    "    \n",
    "    # Return quarter with the worst GDP for each recession\n",
    "    return bottom['Year_Quarter']\n",
    "\n",
    "get_recession_bottom()"
   ]
  },
  {
   "cell_type": "code",
   "execution_count": 170,
   "metadata": {
    "umich_part_id": "025",
    "umich_partlist_id": "004"
   },
   "outputs": [
    {
     "data": {
      "text/plain": [
       "(10730, 68)"
      ]
     },
     "execution_count": 170,
     "metadata": {},
     "output_type": "execute_result"
    }
   ],
   "source": [
    "def convert_housing_data_to_quarters():\n",
    "    '''Converts the housing data to quarters and returns it as mean \n",
    "    values in a dataframe. This dataframe should be a dataframe with\n",
    "    columns for 2000q1 through 2016q3, and should have a multi-index\n",
    "    in the shape of [\"State\",\"RegionName\"]. (Had to add in RegionId to produce correct # of rows)\n",
    "    \n",
    "    Note: Quarters are defined in the assignment description, they are\n",
    "    not arbitrary three month periods.\n",
    "    \n",
    "    The resulting dataframe should have 67 columns, and 10,730 rows.\n",
    "    '''\n",
    "    # Read in Raw Data\n",
    "    house_raw = pd.read_csv(\"City_Zhvi_AllHomes.csv\")\n",
    "    \n",
    "    # Create a dataframe to identiy which months belong to which quarters\n",
    "    house = house_raw.copy()\n",
    "    quarter = pd.DataFrame([[col,col.split('-')[0],col.split('-')[1]] for col in house.columns if '-' in col]).rename(columns = {0:'Year_month',1:'Year',2:'Month'})\n",
    "    quarter['Quarter'] = quarter.apply(lambda df: 'q1' if df['Month'] in {'01','02','03'} else ('q2' if df['Month'] in {'04','05','06'} else ('q3' if df['Month'] in {'07','08','09'} else 'q4')), axis = 1)\n",
    "    \n",
    "    # Transform housing data set from wide to long\n",
    "    house = pd.melt(house_raw,id_vars=['RegionID','RegionName','State','Metro','CountyName','SizeRank'],var_name = 'Year_month',value_name = 'Home_Sale_Price')\n",
    "    \n",
    "    # Merge Quarters data set for grouping purposes\n",
    "    house_quarter = pd.merge(house,quarter,how = 'left',left_on='Year_month',right_on='Year_month')\n",
    "    house_quarter['Year_Quarter'] = house_quarter['Year'] + house_quarter['Quarter']\n",
    "    house_quarter = house_quarter[house_quarter['Year'].astype(float)>=2000]\n",
    "    \n",
    "    # Calculate mean house price across each quarter & place - then make wide by Year-Quarter\n",
    "    quarter_sum = house_quarter.groupby(['RegionID','State','RegionName','Year_Quarter']).Home_Sale_Price.agg(np.mean).unstack()\n",
    "    quarter_sum = quarter_sum.reset_index()\n",
    "    quarter_sum = quarter_sum.set_index(['State','RegionName'])\n",
    "    \n",
    "    # Return data set of avg house prices for every year-quarter in each region\n",
    "    return quarter_sum\n",
    "\n",
    "convert_housing_data_to_quarters().shape"
   ]
  },
  {
   "cell_type": "code",
   "execution_count": 324,
   "metadata": {
    "umich_part_id": "026",
    "umich_partlist_id": "004"
   },
   "outputs": [
    {
     "data": {
      "text/plain": [
       "(False, 0.01379780236074378, 'university_town')"
      ]
     },
     "execution_count": 324,
     "metadata": {},
     "output_type": "execute_result"
    }
   ],
   "source": [
    "def run_ttest():\n",
    "    '''First creates new data showing the decline or growth of housing prices\n",
    "    between the recession start and the recession bottom. Then runs a ttest\n",
    "    comparing the university town values to the non-university towns values, \n",
    "    return whether the alternative hypothesis (that the two groups are the same)\n",
    "    is true or not as well as the p-value of the confidence. \n",
    "    \n",
    "    Return the tuple (different, p, better) where different=True if the t-test is\n",
    "    True at a p<0.01 (we reject the null hypothesis), or different=False if \n",
    "    otherwise (we cannot reject the null hypothesis). The variable p should\n",
    "    be equal to the exact p value returned from scipy.stats.ttest_ind(). The\n",
    "    value for better should be either \"university town\" or \"non-university town\"\n",
    "    depending on which has a lower mean price ratio (which is equivilent to a\n",
    "    reduced market loss).'''\n",
    "    \n",
    "    # Leverage previous functions to gather relevant recession quarters\n",
    "    recession_start = get_recession_start()\n",
    "    recession_bottom = get_recession_bottom()\n",
    "    \n",
    "    # Convert housing data into quarters and then transform from wide to long\n",
    "    house = convert_housing_data_to_quarters().reset_index()\n",
    "    house = pd.melt(house,id_vars=['RegionID','RegionName','State'],var_name = 'Year_Quarter',value_name = 'Home_Sale_Price')\n",
    "    \n",
    "    # Merge recession dates onto housing data set\n",
    "    recession = pd.merge(recession_start,recession_bottom, how = 'inner',left_index = True,right_index = True)\n",
    "    recession = recession.reset_index().rename(columns = {'index':'recession #'})\n",
    "    house_start = pd.merge(recession[['recession #','Year_Quarter_lag']],house,how = 'inner',left_on=\"Year_Quarter_lag\",right_on=\"Year_Quarter\")\n",
    "    house_bottom = pd.merge(recession[['recession #','Year_Quarter']],house,how = 'inner',left_on=\"Year_Quarter\",right_on=\"Year_Quarter\")\n",
    "\n",
    "    # Calculate the difference in home prices for each recession\n",
    "    house_recession = (pd.merge(house_start,house_bottom,how='inner',left_on=['RegionID','RegionName','State','recession #'],right_on=['RegionID','RegionName','State','recession #'])\n",
    "                       .rename(columns = {'Home_Sale_Price_x':'Recession_Start_Home_Price', 'Home_Sale_Price_y': 'Recession_Bottom_Home_Price','Year_Quarter_x':'Recession_Start','Year_Quarter_y':'Recession_Bottom'})\n",
    "                      )\n",
    "    house_recession['Home_Diff'] = house_recession['Recession_Start_Home_Price'] - house_recession['Recession_Bottom_Home_Price']\n",
    "    house_recession = house_recession.drop('Year_Quarter_lag',axis =1)\n",
    "    \n",
    "    # Read in list of university towns & identify them as such\n",
    "    uni_towns = get_list_of_university_towns()\n",
    "    uni_towns['uni'] = 1\n",
    "\n",
    "    # Merge university towns onto housing data set\n",
    "    house_recession['State_Full'] = house_recession['State'].map(states)\n",
    "    uni_house = pd.merge(house_recession,uni_towns,how='outer',left_on = ['State_Full','RegionName'],right_on = ['State','RegionName'])\n",
    "    uni_house['uni'] = uni_house['uni'].fillna(0)\n",
    "    uni_house.head()\n",
    "    \n",
    "    # Split data into uni & non-uni towns\n",
    "    from scipy import stats\n",
    "    uni = uni_house[(uni_house['uni'] == 1)]\n",
    "    non_uni = uni_house[uni_house['uni'] == 0]\n",
    "    \n",
    "    # Calculate means for both populations\n",
    "    uni_mean = uni['Home_Diff'].mean()\n",
    "    non_uni_mean = non_uni['Home_Diff'].mean()\n",
    "    better = (lambda uni_mean,non_uni_mean: 'university_town' if uni_mean < non_uni_mean else 'non-university town')(uni_mean,non_uni_mean)\n",
    "    \n",
    "    # Run t-test\n",
    "    results = stats.ttest_ind(uni['Home_Diff'].dropna(), non_uni['Home_Diff'].dropna())\n",
    "    \n",
    "    # Return requested tuple\n",
    "    return (results.pvalue < 0.01,results.pvalue, better)\n",
    "\n",
    "run_ttest()"
   ]
  }
 ],
 "metadata": {
  "coursera": {
   "course_slug": "python-data-analysis",
   "graded_item_id": "Il9Fx",
   "launcher_item_id": "TeDW0",
   "part_id": "WGlun"
  },
  "kernelspec": {
   "display_name": "Python 3",
   "language": "python",
   "name": "python3"
  },
  "language_info": {
   "codemirror_mode": {
    "name": "ipython",
    "version": 3
   },
   "file_extension": ".py",
   "mimetype": "text/x-python",
   "name": "python",
   "nbconvert_exporter": "python",
   "pygments_lexer": "ipython3",
   "version": "3.7.4"
  },
  "umich": {
   "id": "Assignment 4",
   "version": "1.1"
  }
 },
 "nbformat": 4,
 "nbformat_minor": 1
}
