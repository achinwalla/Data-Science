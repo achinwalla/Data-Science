{
 "cells": [
  {
   "cell_type": "markdown",
   "metadata": {},
   "source": [
    "# Practice Assignment: Understanding Distributions Through Sampling\n",
    "\n",
    "** *This assignment is optional, and I encourage you to share your solutions with me and your peers in the discussion forums!* **\n",
    "\n",
    "\n",
    "To complete this assignment, create a code cell that:\n",
    "* Creates a number of subplots using the `pyplot subplots` or `matplotlib gridspec` functionality.\n",
    "* Creates an animation, pulling between 100 and 1000 samples from each of the random variables (`x1`, `x2`, `x3`, `x4`) for each plot and plotting this as we did in the lecture on animation.\n",
    "* **Bonus:** Go above and beyond and \"wow\" your classmates (and me!) by looking into matplotlib widgets and adding a widget which allows for parameterization of the distributions behind the sampling animations.\n",
    "\n",
    "\n",
    "Tips:\n",
    "* Before you start, think about the different ways you can create this visualization to be as interesting and effective as possible.\n",
    "* Take a look at the histograms below to get an idea of what the random variables look like, as well as their positioning with respect to one another. This is just a guide, so be creative in how you lay things out!\n",
    "* Try to keep the length of your animation reasonable (roughly between 10 and 30 seconds)."
   ]
  },
  {
   "cell_type": "code",
   "execution_count": 1,
   "metadata": {},
   "outputs": [],
   "source": [
    "import matplotlib.pyplot as plt\n",
    "import numpy as np\n",
    "import matplotlib.animation as animation\n",
    "\n",
    "%matplotlib notebook\n",
    "\n",
    "import matplotlib.gridspec as gridspec\n",
    "import random"
   ]
  },
  {
   "cell_type": "code",
   "execution_count": 2,
   "metadata": {},
   "outputs": [],
   "source": [
    "# generate 4 random variables from the random, gamma, exponential, and uniform distributions\n",
    "x1 = np.random.normal(-2.5, 1, 10000)\n",
    "x2 = np.random.gamma(2, 1.5, 10000)\n",
    "x3 = np.random.exponential(2, 10000)+7\n",
    "x4 = np.random.uniform(14,20, 10000)"
   ]
  },
  {
   "cell_type": "code",
   "execution_count": 3,
   "metadata": {},
   "outputs": [
    {
     "data": {
      "text/plain": [
       "Text(15.506215359354986, 0.5, 'x4\\nUniform')"
      ]
     },
     "execution_count": 3,
     "metadata": {},
     "output_type": "execute_result"
    },
    {
     "data": {
      "image/png": "[encoded data removed]",
      "text/plain": [
       "<Figure size 648x216 with 1 Axes>"
      ]
     },
     "metadata": {
      "needs_background": "light"
     },
     "output_type": "display_data"
    }
   ],
   "source": [
    "# Original Plot\n",
    "plt.figure(figsize=(9,3))\n",
    "plt.hist(x1, density=True, bins=20, alpha=0.5)\n",
    "plt.hist(x2, density=True, bins=20, alpha=0.5)\n",
    "plt.hist(x3, density=True, bins=20, alpha=0.5)\n",
    "plt.hist(x4, density=True, bins=20, alpha=0.5);\n",
    "plt.axis([-7,21,0,0.6])\n",
    "\n",
    "plt.text(x1.mean()-1.5, 0.5, 'x1\\nNormal')\n",
    "plt.text(x2.mean()-1.5, 0.5, 'x2\\nGamma')\n",
    "plt.text(x3.mean()-1.5, 0.5, 'x3\\nExponential')\n",
    "plt.text(x4.mean()-1.5, 0.5, 'x4\\nUniform')"
   ]
  },
  {
   "cell_type": "code",
   "execution_count": 4,
   "metadata": {},
   "outputs": [
    {
     "name": "stderr",
     "output_type": "stream",
     "text": [
      "C:\\Users\\AnishaChinwalla\\Anaconda3\\lib\\site-packages\\numpy\\lib\\histograms.py:893: RuntimeWarning: invalid value encountered in true_divide\n",
      "  return n/db/n.sum(), bin_edges\n",
      "C:\\Users\\AnishaChinwalla\\Anaconda3\\lib\\site-packages\\ipykernel_launcher.py:21: RuntimeWarning: Mean of empty slice.\n",
      "C:\\Users\\AnishaChinwalla\\Anaconda3\\lib\\site-packages\\numpy\\core\\_methods.py:85: RuntimeWarning: invalid value encountered in double_scalars\n",
      "  ret = ret.dtype.type(ret / rcount)\n",
      "C:\\Users\\AnishaChinwalla\\Anaconda3\\lib\\site-packages\\ipykernel_launcher.py:22: RuntimeWarning: Mean of empty slice.\n",
      "C:\\Users\\AnishaChinwalla\\Anaconda3\\lib\\site-packages\\ipykernel_launcher.py:23: RuntimeWarning: Mean of empty slice.\n",
      "C:\\Users\\AnishaChinwalla\\Anaconda3\\lib\\site-packages\\ipykernel_launcher.py:24: RuntimeWarning: Mean of empty slice.\n",
      "posx and posy should be finite values\n",
      "posx and posy should be finite values\n",
      "posx and posy should be finite values\n",
      "posx and posy should be finite values\n",
      "posx and posy should be finite values\n",
      "posx and posy should be finite values\n",
      "posx and posy should be finite values\n",
      "posx and posy should be finite values\n"
     ]
    },
    {
     "data": {
      "image/png": "[encoded data removed]",
      "text/plain": [
       "<Figure size 648x216 with 1 Axes>"
      ]
     },
     "metadata": {
      "needs_background": "light"
     },
     "output_type": "display_data"
    }
   ],
   "source": [
    "# Animate as 1 plot\n",
    "\n",
    "## Animation Function\n",
    "def update(curr):\n",
    "    # check if animation is at the last frame, and if so, stop the animation a\n",
    "    if curr == 10: \n",
    "        a.event_source.stop()\n",
    "    plt.cla()\n",
    "    \n",
    "    sample1 = np.random.choice(x1, replace = False, size = curr*100)\n",
    "    sample2 = np.random.choice(x2, replace = False, size = curr*100)\n",
    "    sample3 = np.random.choice(x3, replace = False, size = curr*100)\n",
    "    sample4 = np.random.choice(x4, replace = False, size = curr*100)\n",
    "    \n",
    "    plt.hist(sample1, density=True, bins=20, alpha=0.5)\n",
    "    plt.hist(sample2, density=True, bins=20, alpha=0.5)\n",
    "    plt.hist(sample3, density=True, bins=20, alpha=0.5)\n",
    "    plt.hist(sample4, density=True, bins=20, alpha=0.5);\n",
    "    plt.axis([-7,21,0,0.8])\n",
    "\n",
    "    plt.text(sample1.mean()-1.5, 0.5, 'x1\\nNormal')\n",
    "    plt.text(sample2.mean()-1.5, 0.5, 'x2\\nGamma')\n",
    "    plt.text(sample3.mean()-1.5, 0.5, 'x3\\nExponential')\n",
    "    plt.text(sample4.mean()-1.5, 0.5, 'x4\\nUniform')\n",
    "    \n",
    "    plt.annotate('n = {}'.format(curr*100), [18,0.7])\n",
    "\n",
    "## Plot Data\n",
    "fig = plt.figure(figsize=(9,3))\n",
    "a = animation.FuncAnimation(fig, update, interval=1000)"
   ]
  },
  {
   "cell_type": "code",
   "execution_count": 5,
   "metadata": {},
   "outputs": [
    {
     "data": {
      "image/png": "[encoded data removed]",
      "text/plain": [
       "<Figure size 432x288 with 4 Axes>"
      ]
     },
     "metadata": {
      "needs_background": "light"
     },
     "output_type": "display_data"
    }
   ],
   "source": [
    "# Animate as subplots\n",
    "\n",
    "## Animation Function\n",
    "def update(curr):\n",
    "    # check if animation is at the last frame, and if so, stop the animation a\n",
    "    if curr == 10: \n",
    "        a.event_source.stop()\n",
    "    plt.cla()\n",
    "    for n in range(0,len(axs)):\n",
    "        axs[n].clear()\n",
    "        sample = np.random.choice(data[n], replace = False, size = curr*100)\n",
    "        axs[n].hist(sample, density = True, bins = 20)\n",
    "        axs[n].set_title('{}'.format(names[n]))\n",
    "        axs[n].axis([-7,21,0,0.6])\n",
    "\n",
    "    ax2.annotate('n = {}'.format(curr), [10,0.5])\n",
    "\n",
    "## Plot Data\n",
    "fig, ((ax1, ax2), (ax3, ax4)) = plt.subplots(2, 2)\n",
    "plt.subplots_adjust(wspace = 0.3, hspace = 0.4)\n",
    "axs = [ax1,ax2,ax3,ax4]\n",
    "data = [x1,x2,x3,x4]\n",
    "names = ['Normal','Gamma','Exponential','Uniform']\n",
    "\n",
    "a = animation.FuncAnimation(fig, update, interval=1000)"
   ]
  },
  {
   "cell_type": "code",
   "execution_count": 14,
   "metadata": {},
   "outputs": [
    {
     "data": {
      "text/plain": [
       "array([ 100,  200,  300,  400,  500,  600,  700,  800,  900, 1000])"
      ]
     },
     "execution_count": 14,
     "metadata": {},
     "output_type": "execute_result"
    }
   ],
   "source": []
  },
  {
   "cell_type": "code",
   "execution_count": 10,
   "metadata": {},
   "outputs": [
    {
     "data": {
      "text/plain": [
       "array([-1.81768416, -3.60536588, -2.59431185, -3.73928494, -1.46975737])"
      ]
     },
     "execution_count": 10,
     "metadata": {},
     "output_type": "execute_result"
    }
   ],
   "source": [
    "\n",
    "sample"
   ]
  },
  {
   "cell_type": "code",
   "execution_count": 6,
   "metadata": {},
   "outputs": [
    {
     "data": {
      "text/plain": [
       "Text(10, 0.5, 'n = 10000')"
      ]
     },
     "execution_count": 6,
     "metadata": {},
     "output_type": "execute_result"
    },
    {
     "data": {
      "image/png": "[encoded data removed]",
      "text/plain": [
       "<Figure size 432x288 with 4 Axes>"
      ]
     },
     "metadata": {
      "needs_background": "light"
     },
     "output_type": "display_data"
    }
   ],
   "source": [
    "fig, ((ax1, ax2), (ax3, ax4)) = plt.subplots(2, 2)\n",
    "plt.subplots_adjust(wspace = 0.3, hspace = 0.4)\n",
    "axs = [ax1,ax2,ax3,ax4]\n",
    "data = [x1,x2,x3,x4]\n",
    "names = ['Normal','Gamma','Exponential','Uniform']\n",
    "\n",
    "for n in range(0,len(axs)):\n",
    "    axs[n].axis([-10,25,0,0.6])\n",
    "    axs[n].hist(data[n], density = True, bins = 20)\n",
    "    axs[n].set_title('{}'.format(names[n]))\n",
    "    \n",
    "ax2.annotate('n = {}'.format(len(x1)), [10,0.5])\n"
   ]
  }
 ],
 "metadata": {
  "kernelspec": {
   "display_name": "Python 3",
   "language": "python",
   "name": "python3"
  },
  "language_info": {
   "codemirror_mode": {
    "name": "ipython",
    "version": 3
   },
   "file_extension": ".py",
   "mimetype": "text/x-python",
   "name": "python",
   "nbconvert_exporter": "python",
   "pygments_lexer": "ipython3",
   "version": "3.7.4"
  }
 },
 "nbformat": 4,
 "nbformat_minor": 2
}
