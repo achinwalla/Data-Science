{
 "cells": [
  {
   "cell_type": "markdown",
   "metadata": {},
   "source": [
    "# Practice notebook for regression analysis with dependent data in NHANES\n",
    "\n",
    "This notebook will give you the opportunity to perform some analyses\n",
    "using the regression methods for dependent data that we are focusing\n",
    "on in this week of the course.\n",
    "\n",
    "Enter the code in response to each question in the boxes labeled \"enter your code here\".\n",
    "Then enter your responses to the questions in the boxes labeled \"Type\n",
    "Markdown and Latex\".\n",
    "\n",
    "This notebook is based on the NHANES case study notebook for\n",
    "regression with dependent data.  Most of the code that you will need\n",
    "to write below is very similar to code that appears in the case study\n",
    "notebook.  You will need to edit code from that notebook in small ways\n",
    "to adapt it to the prompts below.\n",
    "\n",
    "To get started, we will use the same module imports and read the data\n",
    "in the same way as we did in the case study:"
   ]
  },
  {
   "cell_type": "code",
   "execution_count": 24,
   "metadata": {},
   "outputs": [],
   "source": [
    "%matplotlib inline\n",
    "import matplotlib.pyplot as plt\n",
    "import seaborn as sns\n",
    "import pandas as pd\n",
    "import statsmodels.api as sm\n",
    "import numpy as np\n",
    "\n",
    "url = \"nhanes_2015_2016.csv\"\n",
    "da = pd.read_csv(url)\n",
    "\n",
    "# Drop unused columns, drop rows with any missing values.\n",
    "vars = [\"BPXDI1\", \"RIDAGEYR\", \"RIAGENDR\", \"RIDRETH1\", \"DMDEDUC2\", \"BMXBMI\",\n",
    "        \"SMQ020\", \"SDMVSTRA\", \"SDMVPSU\"]\n",
    "da = da[vars].dropna()\n",
    "\n",
    "# This is the grouping variable\n",
    "da[\"group\"] = 10*da.SDMVSTRA + da.SDMVPSU"
   ]
  },
  {
   "cell_type": "markdown",
   "metadata": {},
   "source": [
    "## Question 1: \n",
    "\n",
    "Build a marginal linear model using GEE for the first measurement of diastolic blood pressure (`BPXDI1`), accounting for the grouping variable defined above.  This initial model should have no covariates, and will be used to assess the ICC of this blood pressure measure."
   ]
  },
  {
   "cell_type": "code",
   "execution_count": 4,
   "metadata": {},
   "outputs": [
    {
     "name": "stdout",
     "output_type": "stream",
     "text": [
      "The correlation between two observations in the same cluster is 0.031\n"
     ]
    }
   ],
   "source": [
    "model = sm.GEE.from_formula(\"BPXDI1 ~ 1\", groups=\"group\", \n",
    "           cov_struct=sm.cov_struct.Exchangeable(), data=da)\n",
    "result = model.fit()\n",
    "print(result.cov_struct.summary())"
   ]
  },
  {
   "cell_type": "markdown",
   "metadata": {},
   "source": [
    "__Q1a.__ What is the ICC for diastolic blood pressure?  What can you\n",
    "  conclude by comparing it to the ICC for systolic blood pressure?"
   ]
  },
  {
   "cell_type": "markdown",
   "metadata": {},
   "source": [
    "Interclass correlation (ICC) is a measure of how similar the values in a cluster are, 0 being independent and 1 being identical. The ICC is 0.031, which is nearly the same as the ICC for systolic blood pressure (0.030). This further supports the theory that obserations within a cluster have some correlation."
   ]
  },
  {
   "cell_type": "markdown",
   "metadata": {},
   "source": [
    "## Question 2: \n",
    "\n",
    "Take your model from question 1, and add gender, age, and BMI to it as covariates."
   ]
  },
  {
   "cell_type": "code",
   "execution_count": 25,
   "metadata": {},
   "outputs": [],
   "source": [
    "da[\"RIAGENDRx\"] = da.RIAGENDR.replace({1: \"Male\", 2: \"Female\"})\n"
   ]
  },
  {
   "cell_type": "code",
   "execution_count": 11,
   "metadata": {},
   "outputs": [
    {
     "name": "stdout",
     "output_type": "stream",
     "text": [
      "The correlation between two observations in the same cluster is 0.030\n"
     ]
    }
   ],
   "source": [
    "model = sm.GEE.from_formula(\"BPXDI1 ~ RIAGENDRx + RIDAGEYR + BMXBMI\", groups=\"group\", \n",
    "           cov_struct=sm.cov_struct.Exchangeable(), data=da)\n",
    "result = model.fit()\n",
    "print(result.cov_struct.summary())"
   ]
  },
  {
   "cell_type": "markdown",
   "metadata": {},
   "source": [
    "__Q2a.__ What is the ICC for this model?  What can you conclude by comparing it to the ICC for the model that you fit in question 1?"
   ]
  },
  {
   "cell_type": "markdown",
   "metadata": {},
   "source": [
    "The ICC is now 0.030. The variables we added to the model did not help to explain the correlation between two values in the same cluster. "
   ]
  },
  {
   "cell_type": "markdown",
   "metadata": {},
   "source": [
    "## Question 3: \n",
    "\n",
    "Split the data into separate datasets for females and for males and fit two separate marginal linear models for diastolic blood pressure, one only for females, and one only for males."
   ]
  },
  {
   "cell_type": "code",
   "execution_count": 13,
   "metadata": {},
   "outputs": [],
   "source": [
    "female = da.query('RIAGENDRx == \"Female\"')\n",
    "male = da.query('RIAGENDRx == \"Male\"')"
   ]
  },
  {
   "cell_type": "code",
   "execution_count": 18,
   "metadata": {},
   "outputs": [
    {
     "name": "stdout",
     "output_type": "stream",
     "text": [
      "           Female_params  Female_SE  Male_params   Male_SE\n",
      "Intercept      65.750510   1.347957    66.894894  1.750734\n",
      "BMXBMI          0.132351   0.030256     0.265171  0.054721\n",
      "RIDAGEYR       -0.019222   0.019262    -0.066136  0.016754\n"
     ]
    }
   ],
   "source": [
    "# Fit a marginal linear model using GEE to handle dependent data\n",
    "modelf = sm.GEE.from_formula(\"BPXDI1 ~ BMXBMI + RIDAGEYR\",\n",
    "           groups=\"group\",\n",
    "           cov_struct=sm.cov_struct.Exchangeable(), data=female)\n",
    "resultf = modelf.fit()\n",
    "\n",
    "modelm = sm.GEE.from_formula(\"BPXDI1 ~ BMXBMI + RIDAGEYR\",\n",
    "           groups=\"group\",\n",
    "           cov_struct=sm.cov_struct.Exchangeable(), data=male)\n",
    "resultm = modelm.fit()\n",
    "\n",
    "# Compare Results\n",
    "x = pd.DataFrame({\"Female_params\": resultf.params, \"Female_SE\": resultf.bse,\n",
    "                  \"Male_params\": resultm.params, \"Male_SE\": resultm.bse})\n",
    "x = x[[\"Female_params\", \"Female_SE\", \"Male_params\", \"Male_SE\"]]\n",
    "print(x)"
   ]
  },
  {
   "cell_type": "markdown",
   "metadata": {},
   "source": [
    "__Q3a.__ What do you learn by comparing these two fitted models?"
   ]
  },
  {
   "cell_type": "markdown",
   "metadata": {},
   "source": [
    "On average across all clusters, women have a lower intercept of diastolic blood pressure than men. BMI and age appear to have stronger impacts on diastolic pressure within males rather than females. "
   ]
  },
  {
   "cell_type": "markdown",
   "metadata": {},
   "source": [
    "## Question 4: \n",
    "\n",
    "Using the entire data set, fit a multilevel model for diastolic blood pressure, predicted by age, gender, BMI, and educational attainment.  Include a random intercept for groups."
   ]
  },
  {
   "cell_type": "code",
   "execution_count": 26,
   "metadata": {},
   "outputs": [],
   "source": [
    "da[\"DMDEDUC2x\"] = da.DMDEDUC2.replace({1: \"lt9\", 2: \"x9_11\", 3: \"HS\", 4: \"SomeCollege\",\n",
    "                                       5: \"College\", 7: np.nan, 9: np.nan})\n"
   ]
  },
  {
   "cell_type": "code",
   "execution_count": 35,
   "metadata": {},
   "outputs": [
    {
     "data": {
      "text/html": [
       "<table class=\"simpletable\">\n",
       "<tr>\n",
       "       <td>Model:</td>       <td>MixedLM</td> <td>Dependent Variable:</td>   <td>BPXDI1</td>   \n",
       "</tr>\n",
       "<tr>\n",
       "  <td>No. Observations:</td>  <td>5100</td>         <td>Method:</td>          <td>REML</td>    \n",
       "</tr>\n",
       "<tr>\n",
       "     <td>No. Groups:</td>      <td>30</td>          <td>Scale:</td>         <td>154.2352</td>  \n",
       "</tr>\n",
       "<tr>\n",
       "  <td>Min. group size:</td>    <td>105</td>       <td>Likelihood:</td>     <td>-20111.9561</td>\n",
       "</tr>\n",
       "<tr>\n",
       "  <td>Max. group size:</td>    <td>226</td>       <td>Converged:</td>          <td>Yes</td>    \n",
       "</tr>\n",
       "<tr>\n",
       "  <td>Mean group size:</td>   <td>170.0</td>           <td></td>                <td></td>      \n",
       "</tr>\n",
       "</table>\n",
       "<table class=\"simpletable\">\n",
       "<tr>\n",
       "              <td></td>              <th>Coef.</th> <th>Std.Err.</th>    <th>z</th>   <th>P>|z|</th> <th>[0.025</th> <th>0.975]</th>\n",
       "</tr>\n",
       "<tr>\n",
       "  <th>Intercept</th>                <td>65.646</td>   <td>1.032</td>  <td>63.631</td> <td>0.000</td> <td>63.624</td> <td>67.668</td>\n",
       "</tr>\n",
       "<tr>\n",
       "  <th>RIAGENDRx[T.Male]</th>         <td>2.755</td>   <td>0.351</td>   <td>7.855</td> <td>0.000</td>  <td>2.068</td>  <td>3.443</td>\n",
       "</tr>\n",
       "<tr>\n",
       "  <th>DMDEDUC2x[T.HS]</th>          <td>-1.093</td>   <td>0.521</td>  <td>-2.098</td> <td>0.036</td> <td>-2.115</td> <td>-0.072</td>\n",
       "</tr>\n",
       "<tr>\n",
       "  <th>DMDEDUC2x[T.SomeCollege]</th> <td>-0.428</td>   <td>0.484</td>  <td>-0.883</td> <td>0.377</td> <td>-1.377</td>  <td>0.521</td>\n",
       "</tr>\n",
       "<tr>\n",
       "  <th>DMDEDUC2x[T.lt9]</th>         <td>-0.955</td>   <td>0.641</td>  <td>-1.488</td> <td>0.137</td> <td>-2.212</td>  <td>0.303</td>\n",
       "</tr>\n",
       "<tr>\n",
       "  <th>DMDEDUC2x[T.x9_11]</th>       <td>-0.219</td>   <td>0.630</td>  <td>-0.347</td> <td>0.729</td> <td>-1.454</td>  <td>1.016</td>\n",
       "</tr>\n",
       "<tr>\n",
       "  <th>RIDAGEYR</th>                 <td>-0.039</td>   <td>0.010</td>  <td>-3.871</td> <td>0.000</td> <td>-0.059</td> <td>-0.019</td>\n",
       "</tr>\n",
       "<tr>\n",
       "  <th>BMXBMI</th>                    <td>0.186</td>   <td>0.026</td>   <td>7.283</td> <td>0.000</td>  <td>0.136</td>  <td>0.236</td>\n",
       "</tr>\n",
       "<tr>\n",
       "  <th>group Var</th>                 <td>4.170</td>   <td>0.108</td>     <td></td>      <td></td>       <td></td>       <td></td>   \n",
       "</tr>\n",
       "</table>"
      ],
      "text/plain": [
       "<class 'statsmodels.iolib.summary2.Summary'>\n",
       "\"\"\"\n",
       "               Mixed Linear Model Regression Results\n",
       "===================================================================\n",
       "Model:                MixedLM    Dependent Variable:    BPXDI1     \n",
       "No. Observations:     5100       Method:                REML       \n",
       "No. Groups:           30         Scale:                 154.2352   \n",
       "Min. group size:      105        Likelihood:            -20111.9561\n",
       "Max. group size:      226        Converged:             Yes        \n",
       "Mean group size:      170.0                                        \n",
       "-------------------------------------------------------------------\n",
       "                         Coef.  Std.Err.   z    P>|z| [0.025 0.975]\n",
       "-------------------------------------------------------------------\n",
       "Intercept                65.646    1.032 63.631 0.000 63.624 67.668\n",
       "RIAGENDRx[T.Male]         2.755    0.351  7.855 0.000  2.068  3.443\n",
       "DMDEDUC2x[T.HS]          -1.093    0.521 -2.098 0.036 -2.115 -0.072\n",
       "DMDEDUC2x[T.SomeCollege] -0.428    0.484 -0.883 0.377 -1.377  0.521\n",
       "DMDEDUC2x[T.lt9]         -0.955    0.641 -1.488 0.137 -2.212  0.303\n",
       "DMDEDUC2x[T.x9_11]       -0.219    0.630 -0.347 0.729 -1.454  1.016\n",
       "RIDAGEYR                 -0.039    0.010 -3.871 0.000 -0.059 -0.019\n",
       "BMXBMI                    0.186    0.026  7.283 0.000  0.136  0.236\n",
       "group Var                 4.170    0.108                           \n",
       "===================================================================\n",
       "\n",
       "\"\"\""
      ]
     },
     "execution_count": 35,
     "metadata": {},
     "output_type": "execute_result"
    }
   ],
   "source": [
    "# Random Intercept by Group\n",
    "model = sm.MixedLM.from_formula(\n",
    "    formula = \"BPXDI1 ~ RIDAGEYR + RIAGENDRx + BMXBMI + DMDEDUC2x\", \n",
    "    groups=\"group\", \n",
    "    re_formula = \"1\", ## intercept\n",
    "    data=da.dropna())\n",
    "\n",
    "result = model.fit()\n",
    "result.summary()"
   ]
  },
  {
   "cell_type": "markdown",
   "metadata": {},
   "source": [
    "__Q4a.__ How would you describe the strength of the clustering in this analysis?"
   ]
  },
  {
   "cell_type": "markdown",
   "metadata": {},
   "source": [
    "The group variance is estimated to be 4.170, meaning the random effects between any two groups would differ on average by around `np.sqrt(2*4.170)` = 2.88. This means the clusters appear to be sizably different to each other.\n"
   ]
  },
  {
   "cell_type": "markdown",
   "metadata": {},
   "source": [
    "__Q4b:__ Include a random intercept for age, and describe your findings."
   ]
  },
  {
   "cell_type": "code",
   "execution_count": 65,
   "metadata": {},
   "outputs": [
    {
     "data": {
      "text/html": [
       "<table class=\"simpletable\">\n",
       "<tr>\n",
       "       <td>Model:</td>       <td>MixedLM</td> <td>Dependent Variable:</td>   <td>BPXDI1</td>   \n",
       "</tr>\n",
       "<tr>\n",
       "  <td>No. Observations:</td>  <td>5100</td>         <td>Method:</td>          <td>REML</td>    \n",
       "</tr>\n",
       "<tr>\n",
       "     <td>No. Groups:</td>      <td>30</td>          <td>Scale:</td>         <td>154.2358</td>  \n",
       "</tr>\n",
       "<tr>\n",
       "  <td>Min. group size:</td>    <td>105</td>       <td>Likelihood:</td>     <td>-20112.8450</td>\n",
       "</tr>\n",
       "<tr>\n",
       "  <td>Max. group size:</td>    <td>226</td>       <td>Converged:</td>          <td>Yes</td>    \n",
       "</tr>\n",
       "<tr>\n",
       "  <td>Mean group size:</td>   <td>170.0</td>           <td></td>                <td></td>      \n",
       "</tr>\n",
       "</table>\n",
       "<table class=\"simpletable\">\n",
       "<tr>\n",
       "              <td></td>              <th>Coef.</th> <th>Std.Err.</th>    <th>z</th>   <th>P>|z|</th> <th>[0.025</th> <th>0.975]</th>\n",
       "</tr>\n",
       "<tr>\n",
       "  <th>Intercept</th>                <td>63.719</td>   <td>0.925</td>  <td>68.917</td> <td>0.000</td> <td>61.907</td> <td>65.531</td>\n",
       "</tr>\n",
       "<tr>\n",
       "  <th>RIAGENDRx[T.Male]</th>         <td>2.754</td>   <td>0.351</td>   <td>7.850</td> <td>0.000</td>  <td>2.066</td>  <td>3.441</td>\n",
       "</tr>\n",
       "<tr>\n",
       "  <th>DMDEDUC2x[T.HS]</th>          <td>-1.096</td>   <td>0.521</td>  <td>-2.103</td> <td>0.035</td> <td>-2.118</td> <td>-0.075</td>\n",
       "</tr>\n",
       "<tr>\n",
       "  <th>DMDEDUC2x[T.SomeCollege]</th> <td>-0.428</td>   <td>0.484</td>  <td>-0.883</td> <td>0.377</td> <td>-1.377</td>  <td>0.522</td>\n",
       "</tr>\n",
       "<tr>\n",
       "  <th>DMDEDUC2x[T.lt9]</th>         <td>-0.976</td>   <td>0.642</td>  <td>-1.521</td> <td>0.128</td> <td>-2.234</td>  <td>0.282</td>\n",
       "</tr>\n",
       "<tr>\n",
       "  <th>DMDEDUC2x[T.x9_11]</th>       <td>-0.224</td>   <td>0.630</td>  <td>-0.355</td> <td>0.723</td> <td>-1.459</td>  <td>1.012</td>\n",
       "</tr>\n",
       "<tr>\n",
       "  <th>age_cen</th>                  <td>-0.037</td>   <td>0.010</td>  <td>-3.632</td> <td>0.000</td> <td>-0.057</td> <td>-0.017</td>\n",
       "</tr>\n",
       "<tr>\n",
       "  <th>BMXBMI</th>                    <td>0.186</td>   <td>0.026</td>   <td>7.275</td> <td>0.000</td>  <td>0.136</td>  <td>0.236</td>\n",
       "</tr>\n",
       "<tr>\n",
       "  <th>group Var</th>                 <td>4.491</td>   <td>0.114</td>     <td></td>      <td></td>       <td></td>       <td></td>   \n",
       "</tr>\n",
       "</table>"
      ],
      "text/plain": [
       "<class 'statsmodels.iolib.summary2.Summary'>\n",
       "\"\"\"\n",
       "               Mixed Linear Model Regression Results\n",
       "===================================================================\n",
       "Model:                MixedLM    Dependent Variable:    BPXDI1     \n",
       "No. Observations:     5100       Method:                REML       \n",
       "No. Groups:           30         Scale:                 154.2358   \n",
       "Min. group size:      105        Likelihood:            -20112.8450\n",
       "Max. group size:      226        Converged:             Yes        \n",
       "Mean group size:      170.0                                        \n",
       "-------------------------------------------------------------------\n",
       "                         Coef.  Std.Err.   z    P>|z| [0.025 0.975]\n",
       "-------------------------------------------------------------------\n",
       "Intercept                63.719    0.925 68.917 0.000 61.907 65.531\n",
       "RIAGENDRx[T.Male]         2.754    0.351  7.850 0.000  2.066  3.441\n",
       "DMDEDUC2x[T.HS]          -1.096    0.521 -2.103 0.035 -2.118 -0.075\n",
       "DMDEDUC2x[T.SomeCollege] -0.428    0.484 -0.883 0.377 -1.377  0.522\n",
       "DMDEDUC2x[T.lt9]         -0.976    0.642 -1.521 0.128 -2.234  0.282\n",
       "DMDEDUC2x[T.x9_11]       -0.224    0.630 -0.355 0.723 -1.459  1.012\n",
       "age_cen                  -0.037    0.010 -3.632 0.000 -0.057 -0.017\n",
       "BMXBMI                    0.186    0.026  7.275 0.000  0.136  0.236\n",
       "group Var                 4.491    0.114                           \n",
       "===================================================================\n",
       "\n",
       "\"\"\""
      ]
     },
     "execution_count": 65,
     "metadata": {},
     "output_type": "execute_result"
    }
   ],
   "source": [
    "# Center the age variable around mean\n",
    "da[\"age_cen\"] = da.groupby(\"group\").RIDAGEYR.transform(lambda x: x - x.mean())\n",
    "\n",
    "# Random Intercept by Group & Age (??)\n",
    "model = sm.MixedLM.from_formula(\n",
    "    formula = \"BPXDI1 ~ age_cen + RIAGENDRx + BMXBMI + DMDEDUC2x\", \n",
    "    groups=\"group\", \n",
    "    re_formula = \"1\", ## how do I add age without also varying by slope?\n",
    "    data=da.dropna())\n",
    "\n",
    "result = model.fit()\n",
    "result.summary() "
   ]
  },
  {
   "cell_type": "code",
   "execution_count": 66,
   "metadata": {},
   "outputs": [
    {
     "data": {
      "text/plain": [
       "{1191: group   -0.133417\n",
       " dtype: float64, 1192: group   -2.547417\n",
       " dtype: float64, 1201: group   -0.241045\n",
       " dtype: float64, 1202: group    2.069808\n",
       " dtype: float64, 1211: group   -1.715873\n",
       " dtype: float64, 1212: group    1.162925\n",
       " dtype: float64, 1221: group    2.899944\n",
       " dtype: float64, 1222: group    0.857928\n",
       " dtype: float64, 1231: group    1.395054\n",
       " dtype: float64, 1232: group    1.427905\n",
       " dtype: float64, 1241: group   -6.25337\n",
       " dtype: float64, 1242: group    2.399963\n",
       " dtype: float64, 1251: group   -0.71956\n",
       " dtype: float64, 1252: group    1.504288\n",
       " dtype: float64, 1261: group    0.348723\n",
       " dtype: float64, 1262: group   -1.16488\n",
       " dtype: float64, 1271: group   -0.530355\n",
       " dtype: float64, 1272: group   -1.719174\n",
       " dtype: float64, 1281: group   -0.710547\n",
       " dtype: float64, 1282: group    1.364895\n",
       " dtype: float64, 1291: group    0.087334\n",
       " dtype: float64, 1292: group    0.167946\n",
       " dtype: float64, 1301: group   -1.807216\n",
       " dtype: float64, 1302: group   -1.666625\n",
       " dtype: float64, 1311: group   -2.136576\n",
       " dtype: float64, 1312: group    2.235813\n",
       " dtype: float64, 1321: group    0.432856\n",
       " dtype: float64, 1322: group   -0.963159\n",
       " dtype: float64, 1331: group    2.225695\n",
       " dtype: float64, 1332: group    1.72814\n",
       " dtype: float64}"
      ]
     },
     "execution_count": 66,
     "metadata": {},
     "output_type": "execute_result"
    }
   ],
   "source": [
    "result.random_effects"
   ]
  }
 ],
 "metadata": {
  "kernelspec": {
   "display_name": "Python 3",
   "language": "python",
   "name": "python3"
  },
  "language_info": {
   "codemirror_mode": {
    "name": "ipython",
    "version": 3
   },
   "file_extension": ".py",
   "mimetype": "text/x-python",
   "name": "python",
   "nbconvert_exporter": "python",
   "pygments_lexer": "ipython3",
   "version": "3.7.4"
  }
 },
 "nbformat": 4,
 "nbformat_minor": 1
}
