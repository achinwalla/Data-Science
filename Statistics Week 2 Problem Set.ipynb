{
 "cells": [
  {
   "cell_type": "markdown",
   "metadata": {},
   "source": [
    "# Practice notebook for univariate analysis using NHANES data\n",
    "\n",
    "This notebook will give you the opportunity to perform some univariate analyses on your own using the NHANES.  These analyses are similar to what was done in the week 2 NHANES case study notebook.\n",
    "\n",
    "You can enter your code into the cells that say \"enter your code here\", and you can type responses to the questions into the cells that say \"Type Markdown and Latex\".\n",
    "\n",
    "Note that most of the code that you will need to write below is very similar to code that appears in the case study notebook.  You will need to edit code from that notebook in small ways to adapt it to the prompts below.\n",
    "\n",
    "To get started, we will use the same module imports and read the data in the same way as we did in the case study:"
   ]
  },
  {
   "cell_type": "code",
   "execution_count": 1,
   "metadata": {
    "scrolled": false
   },
   "outputs": [],
   "source": [
    "%matplotlib inline\n",
    "import matplotlib.pyplot as plt\n",
    "import seaborn as sns\n",
    "import pandas as pd\n",
    "import statsmodels.api as sm\n",
    "import numpy as np\n",
    "\n",
    "da = pd.read_csv(\"nhanes_2015_2016.csv\")"
   ]
  },
  {
   "cell_type": "code",
   "execution_count": 2,
   "metadata": {},
   "outputs": [
    {
     "data": {
      "text/html": [
       "<div>\n",
       "<style scoped>\n",
       "    .dataframe tbody tr th:only-of-type {\n",
       "        vertical-align: middle;\n",
       "    }\n",
       "\n",
       "    .dataframe tbody tr th {\n",
       "        vertical-align: top;\n",
       "    }\n",
       "\n",
       "    .dataframe thead th {\n",
       "        text-align: right;\n",
       "    }\n",
       "</style>\n",
       "<table border=\"1\" class=\"dataframe\">\n",
       "  <thead>\n",
       "    <tr style=\"text-align: right;\">\n",
       "      <th></th>\n",
       "      <th>SEQN</th>\n",
       "      <th>ALQ101</th>\n",
       "      <th>ALQ110</th>\n",
       "      <th>ALQ130</th>\n",
       "      <th>SMQ020</th>\n",
       "      <th>RIAGENDR</th>\n",
       "      <th>RIDAGEYR</th>\n",
       "      <th>RIDRETH1</th>\n",
       "      <th>DMDCITZN</th>\n",
       "      <th>DMDEDUC2</th>\n",
       "      <th>...</th>\n",
       "      <th>BPXSY2</th>\n",
       "      <th>BPXDI2</th>\n",
       "      <th>BMXWT</th>\n",
       "      <th>BMXHT</th>\n",
       "      <th>BMXBMI</th>\n",
       "      <th>BMXLEG</th>\n",
       "      <th>BMXARML</th>\n",
       "      <th>BMXARMC</th>\n",
       "      <th>BMXWAIST</th>\n",
       "      <th>HIQ210</th>\n",
       "    </tr>\n",
       "  </thead>\n",
       "  <tbody>\n",
       "    <tr>\n",
       "      <td>0</td>\n",
       "      <td>83732</td>\n",
       "      <td>1.0</td>\n",
       "      <td>NaN</td>\n",
       "      <td>1.0</td>\n",
       "      <td>1</td>\n",
       "      <td>1</td>\n",
       "      <td>62</td>\n",
       "      <td>3</td>\n",
       "      <td>1.0</td>\n",
       "      <td>5.0</td>\n",
       "      <td>...</td>\n",
       "      <td>124.0</td>\n",
       "      <td>64.0</td>\n",
       "      <td>94.8</td>\n",
       "      <td>184.5</td>\n",
       "      <td>27.8</td>\n",
       "      <td>43.3</td>\n",
       "      <td>43.6</td>\n",
       "      <td>35.9</td>\n",
       "      <td>101.1</td>\n",
       "      <td>2.0</td>\n",
       "    </tr>\n",
       "    <tr>\n",
       "      <td>1</td>\n",
       "      <td>83733</td>\n",
       "      <td>1.0</td>\n",
       "      <td>NaN</td>\n",
       "      <td>6.0</td>\n",
       "      <td>1</td>\n",
       "      <td>1</td>\n",
       "      <td>53</td>\n",
       "      <td>3</td>\n",
       "      <td>2.0</td>\n",
       "      <td>3.0</td>\n",
       "      <td>...</td>\n",
       "      <td>140.0</td>\n",
       "      <td>88.0</td>\n",
       "      <td>90.4</td>\n",
       "      <td>171.4</td>\n",
       "      <td>30.8</td>\n",
       "      <td>38.0</td>\n",
       "      <td>40.0</td>\n",
       "      <td>33.2</td>\n",
       "      <td>107.9</td>\n",
       "      <td>NaN</td>\n",
       "    </tr>\n",
       "    <tr>\n",
       "      <td>2</td>\n",
       "      <td>83734</td>\n",
       "      <td>1.0</td>\n",
       "      <td>NaN</td>\n",
       "      <td>NaN</td>\n",
       "      <td>1</td>\n",
       "      <td>1</td>\n",
       "      <td>78</td>\n",
       "      <td>3</td>\n",
       "      <td>1.0</td>\n",
       "      <td>3.0</td>\n",
       "      <td>...</td>\n",
       "      <td>132.0</td>\n",
       "      <td>44.0</td>\n",
       "      <td>83.4</td>\n",
       "      <td>170.1</td>\n",
       "      <td>28.8</td>\n",
       "      <td>35.6</td>\n",
       "      <td>37.0</td>\n",
       "      <td>31.0</td>\n",
       "      <td>116.5</td>\n",
       "      <td>2.0</td>\n",
       "    </tr>\n",
       "    <tr>\n",
       "      <td>3</td>\n",
       "      <td>83735</td>\n",
       "      <td>2.0</td>\n",
       "      <td>1.0</td>\n",
       "      <td>1.0</td>\n",
       "      <td>2</td>\n",
       "      <td>2</td>\n",
       "      <td>56</td>\n",
       "      <td>3</td>\n",
       "      <td>1.0</td>\n",
       "      <td>5.0</td>\n",
       "      <td>...</td>\n",
       "      <td>134.0</td>\n",
       "      <td>68.0</td>\n",
       "      <td>109.8</td>\n",
       "      <td>160.9</td>\n",
       "      <td>42.4</td>\n",
       "      <td>38.5</td>\n",
       "      <td>37.7</td>\n",
       "      <td>38.3</td>\n",
       "      <td>110.1</td>\n",
       "      <td>2.0</td>\n",
       "    </tr>\n",
       "    <tr>\n",
       "      <td>4</td>\n",
       "      <td>83736</td>\n",
       "      <td>2.0</td>\n",
       "      <td>1.0</td>\n",
       "      <td>1.0</td>\n",
       "      <td>2</td>\n",
       "      <td>2</td>\n",
       "      <td>42</td>\n",
       "      <td>4</td>\n",
       "      <td>1.0</td>\n",
       "      <td>4.0</td>\n",
       "      <td>...</td>\n",
       "      <td>114.0</td>\n",
       "      <td>54.0</td>\n",
       "      <td>55.2</td>\n",
       "      <td>164.9</td>\n",
       "      <td>20.3</td>\n",
       "      <td>37.4</td>\n",
       "      <td>36.0</td>\n",
       "      <td>27.2</td>\n",
       "      <td>80.4</td>\n",
       "      <td>2.0</td>\n",
       "    </tr>\n",
       "  </tbody>\n",
       "</table>\n",
       "<p>5 rows × 28 columns</p>\n",
       "</div>"
      ],
      "text/plain": [
       "    SEQN  ALQ101  ALQ110  ALQ130  SMQ020  RIAGENDR  RIDAGEYR  RIDRETH1  \\\n",
       "0  83732     1.0     NaN     1.0       1         1        62         3   \n",
       "1  83733     1.0     NaN     6.0       1         1        53         3   \n",
       "2  83734     1.0     NaN     NaN       1         1        78         3   \n",
       "3  83735     2.0     1.0     1.0       2         2        56         3   \n",
       "4  83736     2.0     1.0     1.0       2         2        42         4   \n",
       "\n",
       "   DMDCITZN  DMDEDUC2  ...  BPXSY2  BPXDI2  BMXWT  BMXHT  BMXBMI  BMXLEG  \\\n",
       "0       1.0       5.0  ...   124.0    64.0   94.8  184.5    27.8    43.3   \n",
       "1       2.0       3.0  ...   140.0    88.0   90.4  171.4    30.8    38.0   \n",
       "2       1.0       3.0  ...   132.0    44.0   83.4  170.1    28.8    35.6   \n",
       "3       1.0       5.0  ...   134.0    68.0  109.8  160.9    42.4    38.5   \n",
       "4       1.0       4.0  ...   114.0    54.0   55.2  164.9    20.3    37.4   \n",
       "\n",
       "   BMXARML  BMXARMC  BMXWAIST  HIQ210  \n",
       "0     43.6     35.9     101.1     2.0  \n",
       "1     40.0     33.2     107.9     NaN  \n",
       "2     37.0     31.0     116.5     2.0  \n",
       "3     37.7     38.3     110.1     2.0  \n",
       "4     36.0     27.2      80.4     2.0  \n",
       "\n",
       "[5 rows x 28 columns]"
      ]
     },
     "execution_count": 2,
     "metadata": {},
     "output_type": "execute_result"
    }
   ],
   "source": [
    "da.head()"
   ]
  },
  {
   "cell_type": "markdown",
   "metadata": {},
   "source": [
    "## Question 1\n",
    "\n",
    "Relabel the marital status variable [DMDMARTL](https://wwwn.cdc.gov/Nchs/Nhanes/2015-2016/DEMO_I.htm#DMDMARTL) to have brief but informative character labels.  Then construct a frequency table of these values for all people, then for women only, and for men only.  Then construct these three frequency tables using only people whose age is between 30 and 40."
   ]
  },
  {
   "cell_type": "code",
   "execution_count": 6,
   "metadata": {},
   "outputs": [
    {
     "name": "stdout",
     "output_type": "stream",
     "text": [
      "[ 1.  3.  6.  4.  5. nan  2. 77.]\n"
     ]
    }
   ],
   "source": [
    "print(da.DMDMARTL.unique())"
   ]
  },
  {
   "cell_type": "code",
   "execution_count": 9,
   "metadata": {},
   "outputs": [
    {
     "name": "stdout",
     "output_type": "stream",
     "text": [
      "['Married' 'Divorced' 'Living w Partner' 'Separated' 'Never Married'\n",
      " 'Missing' 'Widowed' 'Refused']\n"
     ]
    }
   ],
   "source": [
    "# Relabel DMDMARTL\n",
    "da['DMDMARTLx'] = da['DMDMARTL'].replace({1:'Married',2:'Widowed',3:'Divorced',4:'Separated', 5:'Never Married',\n",
    "                                          6:'Living w Partner',77:'Refused', None:'Missing'})\n",
    "\n",
    "print(da.DMDMARTLx.unique())"
   ]
  },
  {
   "cell_type": "code",
   "execution_count": 10,
   "metadata": {},
   "outputs": [
    {
     "data": {
      "text/plain": [
       "Married             2780\n",
       "Never Married       1004\n",
       "Divorced             579\n",
       "Living w Partner     527\n",
       "Widowed              396\n",
       "Missing              261\n",
       "Separated            186\n",
       "Refused                2\n",
       "Name: DMDMARTLx, dtype: int64"
      ]
     },
     "execution_count": 10,
     "metadata": {},
     "output_type": "execute_result"
    }
   ],
   "source": [
    "# Frequency Table - All Respondents\n",
    "da.DMDMARTLx.value_counts()"
   ]
  },
  {
   "cell_type": "code",
   "execution_count": 16,
   "metadata": {},
   "outputs": [
    {
     "name": "stdout",
     "output_type": "stream",
     "text": [
      "['Male' 'Female']\n"
     ]
    }
   ],
   "source": [
    "# Label gender\n",
    "da[\"RIAGENDRx\"] = da.RIAGENDR.replace({1: \"Male\", 2: \"Female\"})\n",
    "print(da['RIAGENDRx'].unique())"
   ]
  },
  {
   "cell_type": "code",
   "execution_count": 20,
   "metadata": {},
   "outputs": [
    {
     "data": {
      "text/plain": [
       "Married             0.535339\n",
       "Never Married       0.175426\n",
       "Living w Partner    0.096049\n",
       "Divorced            0.083001\n",
       "Missing             0.048931\n",
       "Widowed             0.036245\n",
       "Separated           0.024647\n",
       "Refused             0.000362\n",
       "Name: DMDMARTLx, dtype: float64"
      ]
     },
     "execution_count": 20,
     "metadata": {},
     "output_type": "execute_result"
    }
   ],
   "source": [
    "# Frequency Table - Male Respondents Only\n",
    "m = da[da['RIAGENDRx'] == 'Male'].DMDMARTLx.value_counts()\n",
    "\n",
    "m / m.sum()"
   ]
  },
  {
   "cell_type": "code",
   "execution_count": 21,
   "metadata": {},
   "outputs": [
    {
     "data": {
      "text/plain": [
       "Married             0.437836\n",
       "Never Married       0.174731\n",
       "Divorced            0.117608\n",
       "Widowed             0.099462\n",
       "Living w Partner    0.088038\n",
       "Missing             0.042339\n",
       "Separated           0.039651\n",
       "Refused             0.000336\n",
       "Name: DMDMARTLx, dtype: float64"
      ]
     },
     "execution_count": 21,
     "metadata": {},
     "output_type": "execute_result"
    }
   ],
   "source": [
    "# Frequency Table - Female Respondents Only\n",
    "f = da[da['RIAGENDRx'] == 'Female'].DMDMARTLx.value_counts()\n",
    "\n",
    "f / f.sum()"
   ]
  },
  {
   "cell_type": "code",
   "execution_count": 22,
   "metadata": {},
   "outputs": [
    {
     "data": {
      "text/plain": [
       "Married             0.545809\n",
       "Never Married       0.211501\n",
       "Living w Partner    0.139376\n",
       "Divorced            0.068226\n",
       "Separated           0.029240\n",
       "Widowed             0.004873\n",
       "Refused             0.000975\n",
       "Name: DMDMARTLx, dtype: float64"
      ]
     },
     "execution_count": 22,
     "metadata": {},
     "output_type": "execute_result"
    }
   ],
   "source": [
    "# Frequency Table - All Respondents between 30 and 40 years old\n",
    "age = da[(da['RIDAGEYR'] >= 30) & (da['RIDAGEYR'] <= 40)].DMDMARTLx.value_counts()\n",
    "\n",
    "age / age.sum()"
   ]
  },
  {
   "cell_type": "code",
   "execution_count": 27,
   "metadata": {},
   "outputs": [
    {
     "data": {
      "text/plain": [
       "Married             0.535714\n",
       "Never Married       0.218045\n",
       "Living w Partner    0.122180\n",
       "Divorced            0.086466\n",
       "Separated           0.033835\n",
       "Widowed             0.003759\n",
       "Name: DMDMARTLx, dtype: float64"
      ]
     },
     "execution_count": 27,
     "metadata": {},
     "output_type": "execute_result"
    }
   ],
   "source": [
    "# Frequency Table - Female Respondents between 30 and 40 years old\n",
    "f_age = da[(da['RIDAGEYR'] >= 30) & (da['RIDAGEYR'] <= 40) & (da['RIAGENDRx'] == 'Female')].DMDMARTLx.value_counts()\n",
    "\n",
    "print('\\033[1m'+ \"30 - 40\" + '\\033[0m')\n",
    "print(f_age / f_age.sum())\n",
    "print(\"\")\n",
    "print('\\033[1m'+\"All Men\"+ '\\033[0m')\n",
    "print(f / f.sum())"
   ]
  },
  {
   "cell_type": "code",
   "execution_count": 34,
   "metadata": {},
   "outputs": [
    {
     "name": "stdout",
     "output_type": "stream",
     "text": [
      "\u001b[1m30 - 40\u001b[0m\n",
      "Married             0.556680\n",
      "Never Married       0.204453\n",
      "Living w Partner    0.157895\n",
      "Divorced            0.048583\n",
      "Separated           0.024291\n",
      "Widowed             0.006073\n",
      "Refused             0.002024\n",
      "Name: DMDMARTLx, dtype: float64\n",
      "\n",
      "\u001b[1mAll Men\u001b[0m\n",
      "Married             0.535339\n",
      "Never Married       0.175426\n",
      "Living w Partner    0.096049\n",
      "Divorced            0.083001\n",
      "Missing             0.048931\n",
      "Widowed             0.036245\n",
      "Separated           0.024647\n",
      "Refused             0.000362\n",
      "Name: DMDMARTLx, dtype: float64\n"
     ]
    }
   ],
   "source": [
    "# Frequency Table - Male Respondents between 30 and 40 years old\n",
    "m_age = da[(da['RIDAGEYR'] >= 30) & (da['RIDAGEYR'] <= 40) & (da['RIAGENDRx'] == 'Male')].DMDMARTLx.value_counts()\n",
    "\n",
    "print('\\033[1m'+ \"30 - 40\" + '\\033[0m')\n",
    "print(m_age / m_age.sum())\n",
    "print(\"\")\n",
    "print('\\033[1m'+\"All Men\"+ '\\033[0m')\n",
    "print(m / m.sum())"
   ]
  },
  {
   "cell_type": "markdown",
   "metadata": {},
   "source": [
    "__Q1a.__ Briefly comment on some of the differences that you observe between the distribution of marital status between women and men, for people of all ages."
   ]
  },
  {
   "cell_type": "markdown",
   "metadata": {},
   "source": [
    "Less than half of the female respondents are married, whereas 53% of men are married. Women are more likely to be divorced or Widowed than men. Slightly more men are living with their partner and slightly more women are separated. Never Married rates are the same between the two groups."
   ]
  },
  {
   "cell_type": "markdown",
   "metadata": {},
   "source": [
    "__Q1b.__ Briefly comment on the differences that you observe between the distribution of marital status states for women between the overall population, and for women between the ages of 30 and 40."
   ]
  },
  {
   "cell_type": "raw",
   "metadata": {},
   "source": [
    "Far more women between the ages of 30 and 40 are married than the total female population. Women between the ages of 30 and 40 are more likely to be never married or living with their partner than the general female population. They are also less likely to be divorced."
   ]
  },
  {
   "cell_type": "markdown",
   "metadata": {},
   "source": [
    "__Q1c.__ Repeat part b for the men."
   ]
  },
  {
   "cell_type": "raw",
   "metadata": {},
   "source": [
    "Marriage rates are not significantly different between the entire population of men and men between the ages of 30 and 40. However, similar to women, men between 30 and 40 are more likely to be never married or living with their partner and less likely to be divorced."
   ]
  },
  {
   "cell_type": "markdown",
   "metadata": {},
   "source": [
    "## Question 2\n",
    "\n",
    "Restricting to the female population, stratify the subjects into age bands no wider than ten years, and construct the distribution of marital status within each age band.  Within each age band, present the distribution in terms of proportions that must sum to 1."
   ]
  },
  {
   "cell_type": "code",
   "execution_count": 40,
   "metadata": {},
   "outputs": [
    {
     "data": {
      "text/plain": [
       "agegrp    DMDMARTLx       \n",
       "(18, 25]  Never Married       0.498480\n",
       "          Missing             0.170213\n",
       "          Living w Partner    0.164134\n",
       "          Married             0.133739\n",
       "          Separated           0.024316\n",
       "          Divorced            0.009119\n",
       "(25, 32]  Married             0.419948\n",
       "          Never Married       0.320210\n",
       "          Living w Partner    0.199475\n",
       "          Divorced            0.044619\n",
       "          Separated           0.015748\n",
       "(32, 40]  Married             0.568365\n",
       "          Never Married       0.187668\n",
       "          Living w Partner    0.109920\n",
       "          Divorced            0.091153\n",
       "          Separated           0.037534\n",
       "          Widowed             0.005362\n",
       "(40, 50]  Married             0.573705\n",
       "          Divorced            0.137450\n",
       "          Never Married       0.125498\n",
       "          Living w Partner    0.073705\n",
       "          Separated           0.065737\n",
       "          Widowed             0.023904\n",
       "(50, 60]  Married             0.546809\n",
       "          Divorced            0.176596\n",
       "          Never Married       0.089362\n",
       "          Living w Partner    0.068085\n",
       "          Widowed             0.059574\n",
       "          Separated           0.057447\n",
       "          Refused             0.002128\n",
       "(60, 70]  Married             0.480726\n",
       "          Divorced            0.192744\n",
       "          Widowed             0.147392\n",
       "          Never Married       0.086168\n",
       "          Separated           0.049887\n",
       "          Living w Partner    0.043084\n",
       "(70, 80]  Widowed             0.460976\n",
       "          Married             0.317073\n",
       "          Divorced            0.143902\n",
       "          Never Married       0.051220\n",
       "          Separated           0.019512\n",
       "          Living w Partner    0.007317\n",
       "Name: DMDMARTLx, dtype: float64"
      ]
     },
     "execution_count": 40,
     "metadata": {},
     "output_type": "execute_result"
    }
   ],
   "source": [
    "# Create age strata based on these cut points\n",
    "da[\"agegrp\"] = pd.cut(da.RIDAGEYR, [18, 25, 32, 40, 50, 60, 70, 80]) \n",
    "\n",
    "# Calc Frequency\n",
    "f_agegrp = da[da['RIAGENDRx'] == 'Female'].groupby(\"agegrp\")[\"DMDMARTLx\"].value_counts()\n",
    "\n",
    "# Present as proportion\n",
    "f_agegrp / f_agegrp.groupby(\"agegrp\").sum()"
   ]
  },
  {
   "cell_type": "markdown",
   "metadata": {},
   "source": [
    "__Q2a.__ Comment on the trends that you see in this series of marginal distributions."
   ]
  },
  {
   "cell_type": "raw",
   "metadata": {},
   "source": [
    "The peak age band for married women is between 40 and 50 years old. Younger people are more likely to be never married or living with their partner while older women are more likely to be widowed or divorced."
   ]
  },
  {
   "cell_type": "markdown",
   "metadata": {},
   "source": [
    "__Q2b.__ Repeat the construction for males."
   ]
  },
  {
   "cell_type": "code",
   "execution_count": 41,
   "metadata": {},
   "outputs": [
    {
     "data": {
      "text/plain": [
       "agegrp    DMDMARTLx       \n",
       "(18, 25]  Never Married       0.570988\n",
       "          Missing             0.222222\n",
       "          Living w Partner    0.104938\n",
       "          Married             0.092593\n",
       "          Separated           0.006173\n",
       "          Divorced            0.003086\n",
       "(25, 32]  Married             0.375405\n",
       "          Never Married       0.346278\n",
       "          Living w Partner    0.239482\n",
       "          Separated           0.022654\n",
       "          Divorced            0.009709\n",
       "          Widowed             0.006472\n",
       "(32, 40]  Married             0.585366\n",
       "          Living w Partner    0.159892\n",
       "          Never Married       0.159892\n",
       "          Divorced            0.059621\n",
       "          Separated           0.027100\n",
       "          Widowed             0.005420\n",
       "          Refused             0.002710\n",
       "(40, 50]  Married             0.703242\n",
       "          Never Married       0.097257\n",
       "          Divorced            0.084788\n",
       "          Living w Partner    0.082294\n",
       "          Separated           0.027431\n",
       "          Widowed             0.004988\n",
       "(50, 60]  Married             0.651982\n",
       "          Divorced            0.125551\n",
       "          Never Married       0.103524\n",
       "          Living w Partner    0.074890\n",
       "          Separated           0.022026\n",
       "          Widowed             0.022026\n",
       "(60, 70]  Married             0.665904\n",
       "          Divorced            0.125858\n",
       "          Never Married       0.086957\n",
       "          Living w Partner    0.050343\n",
       "          Widowed             0.038902\n",
       "          Separated           0.032037\n",
       "(70, 80]  Married             0.611940\n",
       "          Widowed             0.166667\n",
       "          Divorced            0.141791\n",
       "          Separated           0.034826\n",
       "          Living w Partner    0.022388\n",
       "          Never Married       0.022388\n",
       "Name: DMDMARTLx, dtype: float64"
      ]
     },
     "execution_count": 41,
     "metadata": {},
     "output_type": "execute_result"
    }
   ],
   "source": [
    "# Calc Frequency\n",
    "m_agegrp = da[da['RIAGENDRx'] == 'Male'].groupby(\"agegrp\")[\"DMDMARTLx\"].value_counts()\n",
    "\n",
    "# Present as proportion\n",
    "m_agegrp / m_agegrp.groupby(\"agegrp\").sum()"
   ]
  },
  {
   "cell_type": "markdown",
   "metadata": {},
   "source": [
    "The peak age band for married men is between 40 and 50 years old at over 70% of respondents. Younger people are more likely to be never married or living with their partner, but older men are far more likely to be married than any other status."
   ]
  },
  {
   "cell_type": "markdown",
   "metadata": {},
   "source": [
    "__Q2c.__ Comment on any notable differences that you see when comparing these results for females and for males."
   ]
  },
  {
   "cell_type": "raw",
   "metadata": {},
   "source": [
    "Women begin to get married younger than men, but significantly more men are married by 40 and remain that way throughout their life. Men are far less likely to be widowed when 70+ than women."
   ]
  },
  {
   "cell_type": "markdown",
   "metadata": {},
   "source": [
    "## Question 3\n",
    "\n",
    "Construct a histogram of the distribution of heights using the BMXHT variable in the NHANES sample."
   ]
  },
  {
   "cell_type": "code",
   "execution_count": 47,
   "metadata": {},
   "outputs": [
    {
     "data": {
      "image/png": "[encoded data removed]",
      "text/plain": [
       "<Figure size 432x288 with 1 Axes>"
      ]
     },
     "metadata": {
      "needs_background": "light"
     },
     "output_type": "display_data"
    }
   ],
   "source": [
    "sns.distplot(da['BMXHT'].dropna(),kde = False).set_title(\"Distribution of BMXHT\")\n",
    "plt.show()"
   ]
  },
  {
   "cell_type": "markdown",
   "metadata": {},
   "source": [
    "__Q3a.__ Use the `bins` argument to [distplot](https://seaborn.pydata.org/generated/seaborn.distplot.html) to produce histograms with different numbers of bins.  Assess whether the default value for this argument gives a meaningful result, and comment on what happens as the number of bins grows excessively large or excessively small. "
   ]
  },
  {
   "cell_type": "code",
   "execution_count": 51,
   "metadata": {},
   "outputs": [
    {
     "data": {
      "image/png": "[encoded data removed]",
      "text/plain": [
       "<Figure size 432x288 with 1 Axes>"
      ]
     },
     "metadata": {
      "needs_background": "light"
     },
     "output_type": "display_data"
    }
   ],
   "source": [
    "sns.distplot(da['BMXHT'].dropna(),kde = False, bins = 10).set_title(\"Distribution of BMXHT\")\n",
    "sns.distplot(da['BMXHT'].dropna(),kde = False, bins = 25).set_title(\"Distribution of BMXHT\")\n",
    "sns.distplot(da['BMXHT'].dropna(),kde = False, bins = 50).set_title(\"Distribution of BMXHT\")\n",
    "plt.show()"
   ]
  },
  {
   "cell_type": "markdown",
   "metadata": {},
   "source": [
    "If too many bins are used, frequency counts get too small and the distribution becomes too spread out, making it harder to clearly identify peaks. Using too few bins, however, can mask nuances in the histogram such as a bimodal distribution."
   ]
  },
  {
   "cell_type": "markdown",
   "metadata": {},
   "source": [
    "__Q3b.__ Make separate histograms for the heights of women and men, then make a side-by-side boxplot showing the heights of women and men."
   ]
  },
  {
   "cell_type": "code",
   "execution_count": 54,
   "metadata": {},
   "outputs": [
    {
     "data": {
      "image/png": "[encoded data removed]",
      "text/plain": [
       "<Figure size 216x432 with 2 Axes>"
      ]
     },
     "metadata": {
      "needs_background": "light"
     },
     "output_type": "display_data"
    },
    {
     "data": {
      "image/png": "[encoded data removed]",
      "text/plain": [
       "<Figure size 432x288 with 1 Axes>"
      ]
     },
     "metadata": {
      "needs_background": "light"
     },
     "output_type": "display_data"
    }
   ],
   "source": [
    "g = sns.FacetGrid(da, row = \"RIAGENDRx\")\n",
    "g = g.map(plt.hist, \"BMXHT\") \n",
    "plt.show()\n",
    "\n",
    "sns.boxplot(x = da[\"BMXHT\"], y = da[\"RIAGENDRx\"])\n",
    "plt.show()"
   ]
  },
  {
   "cell_type": "markdown",
   "metadata": {},
   "source": [
    "__Q3c.__ Comment on what features, if any are not represented clearly in the boxplots, and what features, if any, are easier to see in the boxplots than in the histograms."
   ]
  },
  {
   "cell_type": "raw",
   "metadata": {},
   "source": [
    "Boxplots do not display the shape of the distribution, but do more clearly show the median value and quartiles."
   ]
  },
  {
   "cell_type": "markdown",
   "metadata": {},
   "source": [
    "## Question 4\n",
    "\n",
    "Make a boxplot showing the distribution of within-subject differences between the first and second systolic blood pressure measurents ([BPXSY1](https://wwwn.cdc.gov/Nchs/Nhanes/2015-2016/BPX_I.htm#BPXSY1) and [BPXSY2](https://wwwn.cdc.gov/Nchs/Nhanes/2015-2016/BPX_I.htm#BPXSY2))."
   ]
  },
  {
   "cell_type": "code",
   "execution_count": 78,
   "metadata": {},
   "outputs": [
    {
     "data": {
      "image/png": "[encoded data removed]",
      "text/plain": [
       "<Figure size 432x288 with 1 Axes>"
      ]
     },
     "metadata": {
      "needs_background": "light"
     },
     "output_type": "display_data"
    },
    {
     "data": {
      "text/plain": [
       "count    5369.000000\n",
       "mean        0.674986\n",
       "std         5.046465\n",
       "min       -26.000000\n",
       "25%        -2.000000\n",
       "50%         0.000000\n",
       "75%         4.000000\n",
       "max        32.000000\n",
       "Name: BPX_diff, dtype: float64"
      ]
     },
     "execution_count": 78,
     "metadata": {},
     "output_type": "execute_result"
    }
   ],
   "source": [
    "da['BPX_diff'] = da['BPXSY1'] - da['BPXSY2']\n",
    "sns.boxplot(x = da['BPX_diff'])\n",
    "plt.show()\n",
    "\n",
    "da['BPX_diff'].describe()"
   ]
  },
  {
   "cell_type": "markdown",
   "metadata": {},
   "source": [
    "__Q4a.__ What proportion of the subjects have a lower SBP on the second reading compared to the first?"
   ]
  },
  {
   "cell_type": "markdown",
   "metadata": {},
   "source": [
    "Median is at 0 so about 50% of subjects have a lower SBP reading the second time."
   ]
  },
  {
   "cell_type": "markdown",
   "metadata": {},
   "source": [
    "__Q4b.__ Make side-by-side boxplots of the two systolic blood pressure variables."
   ]
  },
  {
   "cell_type": "code",
   "execution_count": 77,
   "metadata": {},
   "outputs": [
    {
     "data": {
      "image/png": "[encoded data removed]",
      "text/plain": [
       "<Figure size 432x288 with 1 Axes>"
      ]
     },
     "metadata": {
      "needs_background": "light"
     },
     "output_type": "display_data"
    },
    {
     "data": {
      "image/png": "[encoded data removed]",
      "text/plain": [
       "<Figure size 432x288 with 1 Axes>"
      ]
     },
     "metadata": {
      "needs_background": "light"
     },
     "output_type": "display_data"
    },
    {
     "data": {
      "text/html": [
       "<div>\n",
       "<style scoped>\n",
       "    .dataframe tbody tr th:only-of-type {\n",
       "        vertical-align: middle;\n",
       "    }\n",
       "\n",
       "    .dataframe tbody tr th {\n",
       "        vertical-align: top;\n",
       "    }\n",
       "\n",
       "    .dataframe thead th {\n",
       "        text-align: right;\n",
       "    }\n",
       "</style>\n",
       "<table border=\"1\" class=\"dataframe\">\n",
       "  <thead>\n",
       "    <tr style=\"text-align: right;\">\n",
       "      <th></th>\n",
       "      <th>BPXSY1</th>\n",
       "      <th>BPXSY2</th>\n",
       "    </tr>\n",
       "  </thead>\n",
       "  <tbody>\n",
       "    <tr>\n",
       "      <td>count</td>\n",
       "      <td>5401.000000</td>\n",
       "      <td>5535.000000</td>\n",
       "    </tr>\n",
       "    <tr>\n",
       "      <td>mean</td>\n",
       "      <td>125.084614</td>\n",
       "      <td>124.783017</td>\n",
       "    </tr>\n",
       "    <tr>\n",
       "      <td>std</td>\n",
       "      <td>18.480873</td>\n",
       "      <td>18.527012</td>\n",
       "    </tr>\n",
       "    <tr>\n",
       "      <td>min</td>\n",
       "      <td>82.000000</td>\n",
       "      <td>84.000000</td>\n",
       "    </tr>\n",
       "    <tr>\n",
       "      <td>25%</td>\n",
       "      <td>112.000000</td>\n",
       "      <td>112.000000</td>\n",
       "    </tr>\n",
       "    <tr>\n",
       "      <td>50%</td>\n",
       "      <td>122.000000</td>\n",
       "      <td>122.000000</td>\n",
       "    </tr>\n",
       "    <tr>\n",
       "      <td>75%</td>\n",
       "      <td>134.000000</td>\n",
       "      <td>134.000000</td>\n",
       "    </tr>\n",
       "    <tr>\n",
       "      <td>max</td>\n",
       "      <td>236.000000</td>\n",
       "      <td>238.000000</td>\n",
       "    </tr>\n",
       "  </tbody>\n",
       "</table>\n",
       "</div>"
      ],
      "text/plain": [
       "            BPXSY1       BPXSY2\n",
       "count  5401.000000  5535.000000\n",
       "mean    125.084614   124.783017\n",
       "std      18.480873    18.527012\n",
       "min      82.000000    84.000000\n",
       "25%     112.000000   112.000000\n",
       "50%     122.000000   122.000000\n",
       "75%     134.000000   134.000000\n",
       "max     236.000000   238.000000"
      ]
     },
     "execution_count": 77,
     "metadata": {},
     "output_type": "execute_result"
    }
   ],
   "source": [
    "sns.boxplot(data = da[['BPXSY1','BPXSY2']], orient = 'v')\n",
    "plt.show()\n",
    "\n",
    "sns.boxplot(da['BPXSY1'])\n",
    "sns.boxplot(da['BPXSY2'])\n",
    "plt.show()\n",
    "\n",
    "da[['BPXSY1','BPXSY2']].describe()"
   ]
  },
  {
   "cell_type": "markdown",
   "metadata": {},
   "source": [
    "__Q4c.__ Comment on the variation within either the first or second systolic blood pressure measurements, and the variation in the within-subject differences between the first and second systolic blood pressure measurements."
   ]
  },
  {
   "cell_type": "raw",
   "metadata": {},
   "source": [
    "The first measurement's range is shifted slightly lower than the second measurement, however, the first measurement has a higher mean. Both measurements have the same median of 122, which is lower than both means. This implies that both distributions are right skewed, but the first measurement's distribution is more skewed than the second.\n",
    "\n",
    "Within subject differences are most often 0 (the median) or between 2-4 points off (the 25% and 75% quartiles). There are some outliers on both high and low ends where significant differences were found between first and second measurements."
   ]
  },
  {
   "cell_type": "markdown",
   "metadata": {},
   "source": [
    "## Question 5\n",
    "\n",
    "Construct a frequency table of household sizes for people within each educational attainment category (the relevant variable is [DMDEDUC2](https://wwwn.cdc.gov/Nchs/Nhanes/2015-2016/DEMO_I.htm#DMDEDUC2)).  Convert the frequencies to proportions."
   ]
  },
  {
   "cell_type": "code",
   "execution_count": 92,
   "metadata": {},
   "outputs": [
    {
     "name": "stdout",
     "output_type": "stream",
     "text": [
      "DMDEDUC2x       <9  9-11  HS/GED  Some college/AA  College  Don't know\n",
      "DMDHHSIZ_grp                                                          \n",
      "(0, 2]       0.096 0.095   0.219            0.297    0.292       0.001\n",
      "(2, 4]       0.098 0.109   0.212            0.316    0.264         NaN\n",
      "(4, 7]       0.191 0.168   0.218            0.267    0.155       0.001\n"
     ]
    }
   ],
   "source": [
    "da[\"DMDEDUC2x\"] = da.DMDEDUC2.replace({1: \"<9\", 2: \"9-11\", 3: \"HS/GED\", 4: \"Some college/AA\", 5: \"College\", \n",
    "                                       7: \"Refused\", 9: \"Don't know\"})\n",
    "\n",
    "#print(da['DMDHHSIZ'].describe())\n",
    "da[\"DMDHHSIZ_grp\"] = pd.cut(da.DMDHHSIZ, [0,2,4,7]) \n",
    "\n",
    "edu = da.groupby(\"DMDHHSIZ_grp\")[\"DMDEDUC2x\"].value_counts()\n",
    "edu = edu.unstack()\n",
    "edu = edu.apply(lambda x: x/x.sum(), axis=1)\n",
    "edu = edu[['<9','9-11','HS/GED','Some college/AA','College',\"Don't know\"]]\n",
    "print(edu.to_string(float_format=\"%.3f\"))  # Limit display to 3 decimal places"
   ]
  },
  {
   "cell_type": "markdown",
   "metadata": {},
   "source": [
    "__Q5a.__ Comment on any major differences among the distributions."
   ]
  },
  {
   "cell_type": "raw",
   "metadata": {},
   "source": [
    "Larger households tend to have more people who did not complete high school and less college graduates. High school graduation rates, however, are nearly equal among sub groups."
   ]
  },
  {
   "cell_type": "markdown",
   "metadata": {},
   "source": [
    "__Q5b.__ Restrict the sample to people between 30 and 40 years of age.  Then calculate the median household size for women and men within each level of educational attainment."
   ]
  },
  {
   "cell_type": "code",
   "execution_count": 99,
   "metadata": {},
   "outputs": [
    {
     "data": {
      "text/html": [
       "<div>\n",
       "<style scoped>\n",
       "    .dataframe tbody tr th:only-of-type {\n",
       "        vertical-align: middle;\n",
       "    }\n",
       "\n",
       "    .dataframe tbody tr th {\n",
       "        vertical-align: top;\n",
       "    }\n",
       "\n",
       "    .dataframe thead th {\n",
       "        text-align: right;\n",
       "    }\n",
       "</style>\n",
       "<table border=\"1\" class=\"dataframe\">\n",
       "  <thead>\n",
       "    <tr style=\"text-align: right;\">\n",
       "      <th>RIAGENDRx</th>\n",
       "      <th>Female</th>\n",
       "      <th>Male</th>\n",
       "    </tr>\n",
       "    <tr>\n",
       "      <th>DMDEDUC2x</th>\n",
       "      <th></th>\n",
       "      <th></th>\n",
       "    </tr>\n",
       "  </thead>\n",
       "  <tbody>\n",
       "    <tr>\n",
       "      <td>9-11</td>\n",
       "      <td>5.0</td>\n",
       "      <td>4.5</td>\n",
       "    </tr>\n",
       "    <tr>\n",
       "      <td>&lt;9</td>\n",
       "      <td>5.0</td>\n",
       "      <td>5.0</td>\n",
       "    </tr>\n",
       "    <tr>\n",
       "      <td>College</td>\n",
       "      <td>3.0</td>\n",
       "      <td>3.0</td>\n",
       "    </tr>\n",
       "    <tr>\n",
       "      <td>HS/GED</td>\n",
       "      <td>5.0</td>\n",
       "      <td>4.0</td>\n",
       "    </tr>\n",
       "    <tr>\n",
       "      <td>Some college/AA</td>\n",
       "      <td>4.0</td>\n",
       "      <td>4.0</td>\n",
       "    </tr>\n",
       "  </tbody>\n",
       "</table>\n",
       "</div>"
      ],
      "text/plain": [
       "RIAGENDRx        Female  Male\n",
       "DMDEDUC2x                    \n",
       "9-11                5.0   4.5\n",
       "<9                  5.0   5.0\n",
       "College             3.0   3.0\n",
       "HS/GED              5.0   4.0\n",
       "Some college/AA     4.0   4.0"
      ]
     },
     "execution_count": 99,
     "metadata": {},
     "output_type": "execute_result"
    }
   ],
   "source": [
    "edu_3040 = da[(da['RIDAGEYR'] >= 30) & (da['RIDAGEYR'] <= 40)]\n",
    "edu_3040.groupby(['DMDEDUC2x','RIAGENDRx'])['DMDHHSIZ'].median().unstack()"
   ]
  },
  {
   "cell_type": "markdown",
   "metadata": {},
   "source": [
    "## Question 6\n",
    "\n",
    "The participants can be clustered into \"maked variance units\" (MVU) based on every combination of the variables [SDMVSTRA](https://wwwn.cdc.gov/Nchs/Nhanes/2015-2016/DEMO_I.htm#SDMVSTRA) and [SDMVPSU](https://wwwn.cdc.gov/Nchs/Nhanes/2015-2016/DEMO_I.htm#SDMVPSU).  Calculate the mean age ([RIDAGEYR](https://wwwn.cdc.gov/Nchs/Nhanes/2015-2016/DEMO_I.htm#RIDAGEYR)), height ([BMXHT](https://wwwn.cdc.gov/Nchs/Nhanes/2015-2016/BMX_I.htm#BMXHT)), and BMI ([BMXBMI](https://wwwn.cdc.gov/Nchs/Nhanes/2015-2016/BMX_I.htm#BMXBMI)) for each gender ([RIAGENDR](https://wwwn.cdc.gov/Nchs/Nhanes/2015-2016/DEMO_I.htm#RIAGENDR)), within each MVU, and report the ratio between the largest and smallest mean (e.g. for height) across the MVUs."
   ]
  },
  {
   "cell_type": "code",
   "execution_count": 106,
   "metadata": {},
   "outputs": [
    {
     "name": "stdout",
     "output_type": "stream",
     "text": [
      "                            mean_age  mean_height   mean_BMI\n",
      "SDMVSTRA SDMVPSU RIAGENDR                                   \n",
      "119      1       1         47.861111   172.741667  26.958333\n",
      "                 2         47.663265   159.570408  30.052041\n",
      "         2       1         54.363636   172.906818  27.160465\n",
      "                 2         52.987952   159.244578  27.849398\n",
      "120      1       1         43.130000   169.537755  30.939175\n",
      "                 2         43.636364   155.402041  32.419388\n",
      "         2       1         45.219178   173.075342  27.727397\n",
      "                 2         43.736111   159.218056  27.400000\n",
      "121      1       1         46.750000   172.177885  29.416505\n",
      "                 2         44.397959   158.871579  30.856842\n",
      "         2       1         42.063158   174.764516  26.273118\n",
      "                 2         44.376344   160.229032  26.470968\n",
      "122      1       1         44.653061   173.998969  28.528866\n",
      "                 2         42.897436   161.315385  29.447436\n",
      "         2       1         44.320000   170.332323  25.744444\n",
      "                 2         47.333333   157.231111  26.611111\n",
      "123      1       1         47.829787   174.315217  29.231522\n",
      "                 2         44.841121   162.059615  29.905769\n",
      "         2       1         52.126582   174.454430  28.811392\n",
      "                 2         46.457447   160.476596  30.641489\n",
      "124      1       1         50.750000   172.109009  28.614414\n",
      "                 2         51.664000   158.788710  29.533065\n",
      "         2       1         48.245614   174.291228  27.714035\n",
      "                 2         42.541667   162.853521  28.640845\n",
      "125      1       1         55.165289   173.631092  29.727731\n",
      "                 2         50.900901   160.762385  30.385321\n",
      "         2       1         49.705882   174.456863  29.143564\n",
      "                 2         51.660000   160.021429  28.564286\n",
      "126      1       1         48.416667   175.149398  29.033333\n",
      "                 2         46.229167   160.387500  31.262500\n",
      "         2       1         48.666667   174.713043  29.039130\n",
      "                 2         47.205882   160.892000  29.612121\n",
      "127      1       1         53.137931   171.545349  31.062353\n",
      "                 2         49.694444   157.422430  32.189720\n",
      "         2       1         54.070588   173.366667  30.557831\n",
      "                 2         51.486239   159.022936  30.770642\n",
      "128      1       1         53.673267   169.325000  31.749000\n",
      "                 2         55.638462   156.339062  32.303125\n",
      "         2       1         45.822785   172.400000  26.835443\n",
      "                 2         45.589744   160.437179  27.491026\n",
      "129      1       1         43.922222   171.094318  26.493182\n",
      "                 2         45.329787   156.900000  29.019149\n",
      "         2       1         45.775510   173.138298  28.961702\n",
      "                 2         43.500000   161.034259  29.429630\n",
      "130      1       1         50.516854   176.974157  30.337079\n",
      "                 2         47.810526   161.977895  30.700000\n",
      "         2       1         50.535354   175.061224  29.237755\n",
      "                 2         50.833333   160.060577  31.490385\n",
      "131      1       1         53.140187   175.610476  28.259615\n",
      "                 2         54.893617   161.989362  30.061702\n",
      "         2       1         46.778846   175.091346  30.077885\n",
      "                 2         45.000000   161.673810  32.984127\n",
      "132      1       1         42.380435   172.534066  28.546154\n",
      "                 2         43.210526   161.508421  29.848421\n",
      "         2       1         49.038760   172.809524  28.966667\n",
      "                 2         51.700000   159.138281  30.540625\n",
      "133      1       1         44.054795   171.509722  27.495833\n",
      "                 2         45.105882   158.295122  27.959259\n",
      "         2       1         47.489796   171.179167  27.966667\n",
      "                 2         47.063158   158.627368  29.000000\n",
      "mean_age       1.322736\n",
      "mean_height    1.138815\n",
      "mean_BMI       1.281213\n",
      "dtype: float64\n"
     ]
    }
   ],
   "source": [
    "mvu = da.groupby(['SDMVSTRA','SDMVPSU','RIAGENDR']).agg(mean_age = ('RIDAGEYR','mean'), mean_height = ('BMXHT','mean'), \n",
    "                                       mean_BMI = ('BMXBMI','mean'))\n",
    "\n",
    "print(mvu)"
   ]
  },
  {
   "cell_type": "code",
   "execution_count": null,
   "metadata": {},
   "outputs": [],
   "source": [
    "ratio = mvu.apply(lambda x: x.max()/x.min(), axis=0)\n",
    "\n",
    "print(ratio)"
   ]
  },
  {
   "cell_type": "markdown",
   "metadata": {},
   "source": [
    "__Q6a.__ Comment on the extent to which mean age, height, and BMI vary among the MVUs."
   ]
  },
  {
   "cell_type": "raw",
   "metadata": {},
   "source": [
    "Age varies the most between MVUs, followed by BMI, and lastly height. Variation between MVU means not hugely significant."
   ]
  },
  {
   "cell_type": "markdown",
   "metadata": {},
   "source": [
    "__Q6b.__ Calculate the inter-quartile range (IQR) for age, height, and BMI for each gender and each MVU.  Report the ratio between the largest and smalles IQR across the MVUs."
   ]
  },
  {
   "cell_type": "code",
   "execution_count": 116,
   "metadata": {},
   "outputs": [
    {
     "data": {
      "text/plain": [
       "RIDAGEYR    1.831325\n",
       "BMXHT       1.623762\n",
       "BMXBMI      2.865854\n",
       "dtype: float64"
      ]
     },
     "execution_count": 116,
     "metadata": {},
     "output_type": "execute_result"
    }
   ],
   "source": [
    "iqr = da.groupby(['SDMVSTRA','SDMVPSU','RIAGENDR'])[['RIDAGEYR','BMXHT','BMXBMI']].apply(lambda x: x.quantile(q=0.75) - x.quantile(q=0.25))\n",
    "\n",
    "ratio_iqr = iqr.apply(lambda x: x.max()/x.min(), axis=0)\n",
    "\n",
    "ratio_iqr"
   ]
  },
  {
   "cell_type": "markdown",
   "metadata": {},
   "source": [
    "__Q6c.__ Comment on the extent to which the IQR for age, height, and BMI vary among the MVUs."
   ]
  },
  {
   "cell_type": "raw",
   "metadata": {},
   "source": [
    "Variation between IQRs is significantly larger than variation between means. BMI has the widest IQR variance, implying some MVUs have tight distributions while others have very wide distributions. "
   ]
  }
 ],
 "metadata": {
  "kernelspec": {
   "display_name": "Python 3",
   "language": "python",
   "name": "python3"
  },
  "language_info": {
   "codemirror_mode": {
    "name": "ipython",
    "version": 3
   },
   "file_extension": ".py",
   "mimetype": "text/x-python",
   "name": "python",
   "nbconvert_exporter": "python",
   "pygments_lexer": "ipython3",
   "version": "3.7.4"
  }
 },
 "nbformat": 4,
 "nbformat_minor": 2
}
