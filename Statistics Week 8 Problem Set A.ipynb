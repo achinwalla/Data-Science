{
 "cells": [
  {
   "cell_type": "markdown",
   "metadata": {},
   "source": [
    "# Practice notebook for confidence intervals using NHANES data\n",
    "\n",
    "This notebook will give you the opportunity to practice working with confidence intervals using the NHANES data.\n",
    "\n",
    "You can enter your code into the cells that say \"enter your code here\", and you can type responses to the questions into the cells that say \"Type Markdown and Latex\".\n",
    "\n",
    "Note that most of the code that you will need to write below is very similar to code that appears in the case study notebook.  You will need to edit code from that notebook in small ways to adapt it to the prompts below.\n",
    "\n",
    "To get started, we will use the same module imports and read the data in the same way as we did in the case study:"
   ]
  },
  {
   "cell_type": "code",
   "execution_count": 2,
   "metadata": {},
   "outputs": [],
   "source": [
    "%matplotlib inline\n",
    "import matplotlib.pyplot as plt\n",
    "import pandas as pd\n",
    "import numpy as np\n",
    "import seaborn as sns\n",
    "import statsmodels.api as sm\n",
    "\n",
    "da = pd.read_csv(\"nhanes_2015_2016.csv\")"
   ]
  },
  {
   "cell_type": "markdown",
   "metadata": {},
   "source": [
    "## Question 1\n",
    "\n",
    "Restrict the sample to women between 35 and 50, then use the marital status variable [DMDMARTL](https://wwwn.cdc.gov/Nchs/Nhanes/2015-2016/DEMO_I.htm#DMDMARTL) to partition this sample into two groups - women who are currently married, and women who are not currently married.  Within each of these groups, calculate the proportion of women who have completed college.  Calculate 95% confidence intervals for each of these proportions."
   ]
  },
  {
   "cell_type": "code",
   "execution_count": null,
   "metadata": {},
   "outputs": [],
   "source": [
    "# Prepare Data\n",
    "da[\"RIAGENDRx\"] = da.RIAGENDR.replace({1: \"Male\", 2: \"Female\"})\n",
    "da[\"DMDEDUC2x\"] = da.DMDEDUC2.replace({1: \"<9\", 2: \"9-11\", 3: \"HS/GED\", 4: \"Some college/AA\", 5: \"College\", \n",
    "                                       7: \"Refused\", 9: \"Don't know\"})\n",
    "da[\"DMDMARTLx\"] = da.DMDMARTL.replace({1: \"Yes\", 2: \"No\", 3: \"No\", 4: \"No\", 5: \"No\", 6: np.nan, 77: \"No\", 99: np.nan}) \n",
    "\n",
    "dx = da[['DMDMARTLx','RIAGENDRx','RIDAGEYR','DMDEDUC2x']]\n",
    "\n",
    "dx = dx.loc[(dx.RIDAGEYR >= 35) & (dx.RIDAGEYR <= 50),:].dropna()"
   ]
  },
  {
   "cell_type": "code",
   "execution_count": null,
   "metadata": {},
   "outputs": [],
   "source": [
    "dx.head()"
   ]
  },
  {
   "cell_type": "code",
   "execution_count": null,
   "metadata": {},
   "outputs": [],
   "source": [
    "# Partition Data\n",
    "married = dx[dx.DMDMARTLx == 'Yes'].dropna()\n",
    "unmarried = dx[dx.DMDMARTLx == 'No'].dropna()\n",
    "\n",
    "# Proportion calc\n",
    "p_m = (married.DMDEDUC2x == 'College').mean()\n",
    "p_um = (unmarried.DMDEDUC2x == 'College').mean()\n",
    "\n",
    "# Get Population Size\n",
    "n_m = len(married)\n",
    "n_um = len(unmarried)\n",
    "\n",
    "# Standard Error\n",
    "se_m = np.sqrt(p_m * (1 - p_m) / n_m)\n",
    "se_um = np.sqrt(p_um * (1 - p_um) / n_um)\n",
    "\n",
    "# Confidence Interval\n",
    "zstar = 1.96\n",
    "lcb_m = p_m - zstar * se_m\n",
    "ucb_m = p_m + zstar * se_m\n",
    "print(\"Married Females\")\n",
    "print(p_m, se_m, lcb_m,ucb_m)\n",
    "\n",
    "print(\"\")\n",
    "\n",
    "lcb_um = p_um - zstar * se_um\n",
    "ucb_um = p_um + zstar * se_um\n",
    "print(\"Unmarried Females\")\n",
    "print(p_um, se_um, lcb_um,ucb_um)\n"
   ]
  },
  {
   "cell_type": "markdown",
   "metadata": {},
   "source": [
    "__Q1a.__ Identify which of the two confidence intervals is wider, and explain why this is the case. "
   ]
  },
  {
   "cell_type": "markdown",
   "metadata": {},
   "source": [
    "Unmarried women have a wider confidence interval because they have a higher standard error. This means there is more variance in this population than that of married women."
   ]
  },
  {
   "cell_type": "markdown",
   "metadata": {},
   "source": [
    "__Q1b.__ Write 1-2 sentences summarizing these findings for an audience that does not know what a confidence interval is (the goal here is to report the substance of what you learned about how marital status and educational attainment are related, not to teach a person what a confidence interval is)."
   ]
  },
  {
   "cell_type": "markdown",
   "metadata": {},
   "source": [
    "Using our sample data, we estimate that 33.6% of married women and 20.47% unmarried women have attained a college degree. With 95% confidence, we can estimate that the true population proportion lies between 30.5% - 36.7% for married women and 16.65% - 24.27% for unmarried women."
   ]
  },
  {
   "cell_type": "markdown",
   "metadata": {},
   "source": [
    "## Question 2\n",
    "\n",
    "Construct a 95% confidence interval for the proportion of smokers who are female. Construct a 95% confidence interval for the proportion of smokers who are male. Construct a 95% confidence interval for the **difference** between those two gender proportions."
   ]
  },
  {
   "cell_type": "code",
   "execution_count": 3,
   "metadata": {},
   "outputs": [],
   "source": [
    "# Prepare Data\n",
    "da[\"SMQ020x\"] = da.SMQ020.replace({1: \"Yes\", 2: \"No\", 7: np.nan, 9: np.nan}) "
   ]
  },
  {
   "cell_type": "code",
   "execution_count": null,
   "metadata": {},
   "outputs": [],
   "source": [
    "# Partition Data\n",
    "female = da[da.RIAGENDRx == 'Female'].dropna()\n",
    "male = da[da.RIAGENDRx == 'Male'].dropna()\n",
    "\n",
    "# Proportion calc\n",
    "p_f = (female.SMQ020x == 'Yes').mean()\n",
    "p_m = (male.SMQ020x == 'Yes').mean()\n",
    "\n",
    "# Get Population Size\n",
    "n_f = len(female)\n",
    "n_m = len(male)\n",
    "\n",
    "# Standard Error\n",
    "se_f = np.sqrt(p_f * (1 - p_f) / n_f)\n",
    "se_m = np.sqrt(p_m * (1 - p_m) / n_m)\n",
    "\n",
    "# Difference\n",
    "d = p_f - p_m\n",
    "se_d = np.sqrt(se_f**2 + se_m**2)\n",
    "\n",
    "# Confidence Interval\n",
    "zstar = 1.96\n",
    "lcb = d - zstar * se_d\n",
    "ucb = d + zstar * se_d\n",
    "print(\"Difference: Females - Males\")\n",
    "print(\"Prop F:\", round(p_f,5), \"Prop M:\",round(p_m,5), \"Diff Prop\", round(d,5))\n",
    "print(\"CI: (\",lcb,\",\",ucb, \")\")"
   ]
  },
  {
   "cell_type": "markdown",
   "metadata": {},
   "source": [
    "__Q2a.__ Why might it be relevant to report the separate gender proportions **and** the difference between the gender proportions?"
   ]
  },
  {
   "cell_type": "markdown",
   "metadata": {},
   "source": [
    "To provide context as to the magnitude of the difference and its implications for real world analysis."
   ]
  },
  {
   "cell_type": "markdown",
   "metadata": {},
   "source": [
    "__Q2b.__ How does the **width** of the confidence interval for the difference between the gender proportions compare to the widths of the confidence intervals for the separate gender proportions?"
   ]
  },
  {
   "cell_type": "code",
   "execution_count": null,
   "metadata": {},
   "outputs": [],
   "source": [
    "# Confidence Interval - Female\n",
    "lcb_f = p_f - zstar * se_f\n",
    "ucb_f = p_f + zstar * se_f\n",
    "width_f = ucb_f - lcb_f\n",
    "print(\"Female CI: (\",lcb_f,\",\",ucb_f, \") Width: \", round(width_f,5))\n",
    "\n",
    "print(\"\")\n",
    "\n",
    "# Confidence Interval - Male\n",
    "lcb_m = p_m - zstar * se_m\n",
    "ucb_m = p_m + zstar * se_m\n",
    "width_m = ucb_m - lcb_m\n",
    "print(\"Male CI: (\",lcb_m,\",\",ucb_m, \") Width: \", round(width_m,5))\n",
    "print(\"\")\n",
    "\n",
    "print(\"Width of Difference\", ucb - lcb)"
   ]
  },
  {
   "cell_type": "markdown",
   "metadata": {},
   "source": [
    "Difference between population samples has a wider confidence interval than either of the gender proportions."
   ]
  },
  {
   "cell_type": "markdown",
   "metadata": {},
   "source": [
    "## Question 3\n",
    "\n",
    "Construct a 95% interval for height ([BMXHT](https://wwwn.cdc.gov/Nchs/Nhanes/2015-2016/BMX_I.htm#BMXHT)) in centimeters.  Then convert height from centimeters to inches by dividing by 2.54, and construct a 95% confidence interval for height in inches.  Finally, convert the endpoints (the lower and upper confidence limits) of the confidence interval from inches to back to centimeters   "
   ]
  },
  {
   "cell_type": "code",
   "execution_count": null,
   "metadata": {},
   "outputs": [],
   "source": [
    "# Centimeters\n",
    "mean = da[\"BMXHT\"].mean()\n",
    "sd = da[\"BMXHT\"].std()\n",
    "n = len(da)\n",
    "tstar = 1.96\n",
    "se = sd/np.sqrt(n)\n",
    "\n",
    "lcb = mean - tstar * se\n",
    "ucb = mean + tstar * se\n",
    "(lcb, ucb)"
   ]
  },
  {
   "cell_type": "code",
   "execution_count": null,
   "metadata": {},
   "outputs": [],
   "source": [
    "# Inches\n",
    "da['BMXHT_in'] = da['BMXHT']/2.54\n",
    "mean = da[\"BMXHT_in\"].mean()\n",
    "sd = da[\"BMXHT_in\"].std()\n",
    "n = len(da)\n",
    "tstar = 1.96\n",
    "se = sd/np.sqrt(n)\n",
    "\n",
    "lcb = mean - tstar * se\n",
    "ucb = mean + tstar * se\n",
    "(lcb*2.54, ucb*2.54)"
   ]
  },
  {
   "cell_type": "markdown",
   "metadata": {},
   "source": [
    "__Q3a.__ Describe how the confidence interval constructed in centimeters relates to the confidence interval constructed in inches."
   ]
  },
  {
   "cell_type": "markdown",
   "metadata": {},
   "source": [
    "They are the same"
   ]
  },
  {
   "cell_type": "markdown",
   "metadata": {},
   "source": [
    "## Question 4\n",
    "\n",
    "Partition the sample based on 10-year age bands, i.e. the resulting groups will consist of people with ages from 18-28, 29-38, etc. Construct 95% confidence intervals for the difference between the mean BMI for females and for males within each age band."
   ]
  },
  {
   "cell_type": "code",
   "execution_count": null,
   "metadata": {},
   "outputs": [],
   "source": [
    "da[\"agegrp\"] = pd.cut(da.RIDAGEYR, [18, 29, 39, 49, 59, 69, 80])"
   ]
  },
  {
   "cell_type": "code",
   "execution_count": null,
   "metadata": {},
   "outputs": [],
   "source": [
    "# Calculate within age/gender groups\n",
    "bmi = da.groupby([\"agegrp\", \"RIAGENDRx\"]).agg({\"BMXBMI\": [np.mean, np.std, np.size]}).unstack()\n",
    "bmi.columns = ['f_mean','m_mean','f_std','m_std','f_n','m_n']\n",
    "\n",
    "# Standard Error\n",
    "bmi[\"se_f\"] = bmi.f_std / np.sqrt(bmi.f_n)\n",
    "bmi[\"se_m\"] = bmi.m_std / np.sqrt(bmi.m_n)\n",
    "\n",
    "# Standard Error Difference\n",
    "bmi[\"se_diff\"] = np.sqrt(se_f**2 + se_m**2)\n",
    "\n",
    "# Mean Difference\n",
    "bmi[\"d\"] = bmi.f_mean - bmi.m_mean\n",
    "\n",
    "# Confidence Interval\n",
    "bmi[\"lcb\"] = bmi.d - 1.96 * bmi.se_diff\n",
    "bmi[\"ucb\"] = bmi.d + 1.96 * bmi.se_diff"
   ]
  },
  {
   "cell_type": "code",
   "execution_count": null,
   "metadata": {},
   "outputs": [],
   "source": [
    "# Plot the mean difference in black and the confidence limits in blue\n",
    "x = np.arange(bmi.shape[0])\n",
    "pp = sns.pointplot(x, bmi[\"d\"], color='black')\n",
    "sns.pointplot(x, bmi[\"lcb\"], color='blue')\n",
    "sns.pointplot(x, bmi[\"ucb\"], color='blue')\n",
    "pp.set_xticklabels(pr.index)\n",
    "pp.set_xlabel(\"Age group\")\n",
    "pp.set_ylabel(\"Female - Male BMI difference\")\n",
    "plt.show()"
   ]
  },
  {
   "cell_type": "markdown",
   "metadata": {},
   "source": [
    "__Q4a.__ How do the widths of these confidence intervals differ?  Provide an explanation for any substantial diferences in the confidence interval widths that you see."
   ]
  },
  {
   "cell_type": "code",
   "execution_count": null,
   "metadata": {},
   "outputs": [],
   "source": [
    "# width in CI\n",
    "bmi['width'] = bmi.ucb - bmi.lcb\n",
    "bmi[['width','se_diff','f_mean','m_mean']]"
   ]
  },
  {
   "cell_type": "markdown",
   "metadata": {},
   "source": [
    "The greater the variance, the wider the CI. The highest difference in Standard Error comes in the 29-39 age group."
   ]
  },
  {
   "cell_type": "markdown",
   "metadata": {},
   "source": [
    "## Question 5\n",
    "\n",
    "Construct a 95% confidence interval for the first and second systolic blood pressure measures, and for the difference between the first and second systolic blood pressure measurements within a subject."
   ]
  },
  {
   "cell_type": "code",
   "execution_count": null,
   "metadata": {},
   "outputs": [],
   "source": [
    "bp = da[['BPXSY1', 'BPXSY2']].dropna()\n",
    "\n",
    "mean1 = bp.iloc[0].mean()\n",
    "mean2 = bp.iloc[1].mean()\n",
    "mean_diff = mean1 - mean2\n",
    "\n",
    "n = len(bp)\n",
    "\n",
    "se1 = bp.iloc[0].std()/np.sqrt(n)\n",
    "se2 = bp.iloc[1].std()/np.sqrt(n)\n",
    "se_diff = np.sqrt(se1**2 + se2**2)\n",
    "\n",
    "lcb = mean_diff - 1.96 * se_diff\n",
    "ucb = mean_diff + 1.96 * se_diff\n",
    "\n",
    "print(mean1,mean2)\n",
    "print(mean_diff)\n",
    "print((lcb,ucb))"
   ]
  },
  {
   "cell_type": "markdown",
   "metadata": {},
   "source": [
    "__Q5a.__ Based on these confidence intervals, would you say that a difference of zero between the population mean values of the first and second systolic blood pressure measures is consistent with the data?"
   ]
  },
  {
   "cell_type": "markdown",
   "metadata": {},
   "source": [
    "No, the confidence interval does not include zero, so there is statistical evidence that the difference is not zero."
   ]
  },
  {
   "cell_type": "markdown",
   "metadata": {},
   "source": [
    "__Q5b.__ Discuss how the width of the confidence interval for the within-subject difference compares to the widths of the confidence intervals for the first and second measures."
   ]
  },
  {
   "cell_type": "code",
   "execution_count": null,
   "metadata": {},
   "outputs": [],
   "source": [
    "print(\"Measure 1: \", sm.stats.DescrStatsW(bp.iloc[0]).zconfint_mean())\n",
    "print(\"Measure 2: \", sm.stats.DescrStatsW(bp.iloc[1]).zconfint_mean())"
   ]
  },
  {
   "cell_type": "markdown",
   "metadata": {},
   "source": [
    "Width of the within-subject difference less than width of each measure's confidence interval. Implies less variance in the differences between measures within the same subject than the measure itself across different subjects."
   ]
  },
  {
   "cell_type": "markdown",
   "metadata": {},
   "source": [
    "## Question 6\n",
    "\n",
    "Construct a 95% confidence interval for the mean difference between the average age of a smoker, and the average age of a non-smoker."
   ]
  },
  {
   "cell_type": "code",
   "execution_count": null,
   "metadata": {},
   "outputs": [],
   "source": [
    "# Calculate within age/smoker groups\n",
    "smoker = da.groupby([\"SMQ020x\"]).agg({\"RIDAGEYR\": [np.mean, np.std, np.size]})\n",
    "smoker.columns = ['avg','stde','n']\n",
    "\n",
    "# Standard Error\n",
    "smoker[\"se\"] = smoker.iloc[0,2] / np.sqrt(smoker.iloc[1,2])\n",
    "\n",
    "# Standard Error Difference\n",
    "se_diff = np.sqrt(smoker.iloc[0,3]**2 + smoker.iloc[1,3]**2)\n",
    "\n",
    "# Mean Difference\n",
    "d = smoker.iloc[0,0] - smoker.iloc[1,0]\n",
    "\n",
    "# Confidence Interval\n",
    "lcb = d - 1.96 * se_diff\n",
    "ucb = d + 1.96 * se_diff\n",
    "\n",
    "print(smoker.avg)\n",
    "print(\"\")\n",
    "print(lcb,ucb)\n"
   ]
  },
  {
   "cell_type": "markdown",
   "metadata": {},
   "source": [
    "__Q6a.__ Use graphical and numerical techniques to compare the variation in the ages of smokers to the variation in the ages of non-smokers.  "
   ]
  },
  {
   "cell_type": "code",
   "execution_count": 10,
   "metadata": {},
   "outputs": [
    {
     "data": {
      "text/plain": [
       "0     62\n",
       "1     53\n",
       "2     78\n",
       "6     22\n",
       "10    46\n",
       "Name: RIDAGEYR, dtype: int64"
      ]
     },
     "execution_count": 10,
     "metadata": {},
     "output_type": "execute_result"
    }
   ],
   "source": [
    "smoker.loc[smoker.SMQ020x == 'Yes', \"RIDAGEYR\"].head()"
   ]
  },
  {
   "cell_type": "code",
   "execution_count": 27,
   "metadata": {},
   "outputs": [
    {
     "data": {
      "image/png": "[encoded data removed]",
      "text/plain": [
       "<Figure size 216x432 with 2 Axes>"
      ]
     },
     "metadata": {
      "needs_background": "light"
     },
     "output_type": "display_data"
    }
   ],
   "source": [
    "# Histogram\n",
    "g = sns.FacetGrid(da, row = \"SMQ020x\") # set up grid\n",
    "g = g.map(plt.hist, \"RIDAGEYR\") # what to plot within grid\n",
    "plt.show()"
   ]
  },
  {
   "cell_type": "code",
   "execution_count": 28,
   "metadata": {},
   "outputs": [
    {
     "data": {
      "image/png": "[encoded data removed]",
      "text/plain": [
       "<Figure size 432x288 with 1 Axes>"
      ]
     },
     "metadata": {
      "needs_background": "light"
     },
     "output_type": "display_data"
    }
   ],
   "source": [
    "# Box Plot\n",
    "sns.boxplot(x = da[\"RIDAGEYR\"], y = da[\"SMQ020x\"])\n",
    "plt.show()"
   ]
  },
  {
   "cell_type": "code",
   "execution_count": 29,
   "metadata": {},
   "outputs": [
    {
     "data": {
      "image/png": "[encoded data removed]",
      "text/plain": [
       "<Figure size 432x288 with 1 Axes>"
      ]
     },
     "metadata": {
      "needs_background": "light"
     },
     "output_type": "display_data"
    },
    {
     "data": {
      "image/png": "[encoded data removed]",
      "text/plain": [
       "<Figure size 432x288 with 1 Axes>"
      ]
     },
     "metadata": {
      "needs_background": "light"
     },
     "output_type": "display_data"
    }
   ],
   "source": [
    "# QQ Plot\n",
    "sm.qqplot(da.loc[da.SMQ020x == 'Yes', \"RIDAGEYR\"],line='s')\n",
    "sm.qqplot(da.loc[da.SMQ020x == 'No', \"RIDAGEYR\"],line='s')\n",
    "plt.show()"
   ]
  },
  {
   "cell_type": "markdown",
   "metadata": {},
   "source": [
    "__Q6b.__ Does it appear that uncertainty about the mean age of smokers, or uncertainty about the mean age of non-smokers contributed more to the uncertainty for the mean difference that we are focusing on here?"
   ]
  },
  {
   "cell_type": "markdown",
   "metadata": {},
   "source": [
    "The mean age of non-smokers appears to have greater variance than the mean age of smokers."
   ]
  }
 ],
 "metadata": {
  "kernelspec": {
   "display_name": "Python 3",
   "language": "python",
   "name": "python3"
  },
  "language_info": {
   "codemirror_mode": {
    "name": "ipython",
    "version": 3
   },
   "file_extension": ".py",
   "mimetype": "text/x-python",
   "name": "python",
   "nbconvert_exporter": "python",
   "pygments_lexer": "ipython3",
   "version": "3.7.4"
  }
 },
 "nbformat": 4,
 "nbformat_minor": 2
}
