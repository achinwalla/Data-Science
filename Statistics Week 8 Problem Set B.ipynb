{
 "cells": [
  {
   "cell_type": "markdown",
   "metadata": {},
   "source": [
    "# Practice notebook for hypothesis tests using NHANES data\n",
    "\n",
    "This notebook will give you the opportunity to perform some hypothesis tests with the NHANES data that are similar to\n",
    "what was done in the week 3 case study notebook.\n",
    "\n",
    "You can enter your code into the cells that say \"enter your code here\", and you can type responses to the questions into the cells that say \"Type Markdown and Latex\".\n",
    "\n",
    "Note that most of the code that you will need to write below is very similar to code that appears in the case study notebook.  You will need to edit code from that notebook in small ways to adapt it to the prompts below.\n",
    "\n",
    "To get started, we will use the same module imports and read the data in the same way as we did in the case study:"
   ]
  },
  {
   "cell_type": "code",
   "execution_count": 113,
   "metadata": {},
   "outputs": [],
   "source": [
    "%matplotlib inline\n",
    "import matplotlib.pyplot as plt\n",
    "import seaborn as sns\n",
    "import pandas as pd\n",
    "import statsmodels.api as sm\n",
    "import numpy as np\n",
    "import scipy.stats.distributions as dist\n",
    "import math"
   ]
  },
  {
   "cell_type": "code",
   "execution_count": 115,
   "metadata": {},
   "outputs": [],
   "source": [
    "da = pd.read_csv(\"nhanes_2015_2016.csv\")"
   ]
  },
  {
   "cell_type": "code",
   "execution_count": 116,
   "metadata": {},
   "outputs": [],
   "source": [
    "# Prepare data\n",
    "da[\"RIAGENDRx\"] = da.RIAGENDR.replace({1: \"Male\", 2: \"Female\"})\n",
    "da[\"SMQ020x\"] = da.SMQ020.replace({1: \"Yes\", 2: \"No\", 7: np.nan, 9: np.nan}) \n",
    "da[\"DMDEDUC2x\"] = da.DMDEDUC2.replace({1: \"<9\", 2: \"9-11\", 3: \"HS/GED\", 4: \"Some college/AA\", 5: \"College\", \n",
    "                                       7: \"Refused\", 9: \"Don't know\"})"
   ]
  },
  {
   "cell_type": "markdown",
   "metadata": {},
   "source": [
    "## Question 1\n",
    "\n",
    "Conduct a hypothesis test (at the 0.05 level) for the null hypothesis that the proportion of women who smoke is equal to the proportion of men who smoke."
   ]
  },
  {
   "cell_type": "code",
   "execution_count": 16,
   "metadata": {},
   "outputs": [
    {
     "name": "stdout",
     "output_type": "stream",
     "text": [
      "Test Statistic\n",
      "-16.05\n",
      "\n",
      "P-Value\n",
      "0.0\n",
      "\n",
      "Proportions\n",
      "F: 0.305 M: 0.513\n"
     ]
    }
   ],
   "source": [
    "df = da[['RIAGENDRx','SMQ020x']]\n",
    "female = df[da.RIAGENDRx == 'Female'].dropna()\n",
    "male = df[da.RIAGENDRx == 'Male'].dropna()\n",
    "\n",
    "# Sample sizes\n",
    "nf = len(female)\n",
    "nm = len(male)\n",
    "\n",
    "# Number of Smokers\n",
    "yf = len(female[female.SMQ020x == 'Yes'])\n",
    "ym = len(male[male.SMQ020x == 'Yes'])\n",
    "\n",
    "# Estimates of the population proportions\n",
    "pf = (female.SMQ020x == 'Yes').mean()\n",
    "pm = (male.SMQ020x == 'Yes').mean()\n",
    "\n",
    "# Standard Error\n",
    "sef = np.sqrt(pf * (1 - pf) / nf)\n",
    "sem = np.sqrt(pm * (1 - pm) / nm)\n",
    "\n",
    "# Estimate of the combined population proportion\n",
    "phat = (yf + ym) / (nf + nm)\n",
    "\n",
    "# Estimate of the variance of the combined population proportion\n",
    "va = phat * (1 - phat)\n",
    "\n",
    "# Estimate of the standard error of the combined population proportion\n",
    "se = np.sqrt(va * (1 / nf + 1 / nm))\n",
    "\n",
    "# Test statistic and its p-value\n",
    "test_stat = (pf - pm) / se\n",
    "pvalue = 2*dist.norm.cdf(-np.abs(test_stat))\n",
    "\n",
    "# Print the test statistic its p-value\n",
    "print(\"Test Statistic\")\n",
    "print(round(test_stat, 2))\n",
    "\n",
    "print(\"\\nP-Value\")\n",
    "print(round(pvalue, 2))\n",
    "\n",
    "print(\"\\nProportions\")\n",
    "print(\"F:\",round(pf,3), \"M:\",round(pm,3))"
   ]
  },
  {
   "cell_type": "markdown",
   "metadata": {},
   "source": [
    "__Q1a.__ Write 1-2 sentences explaining the substance of your findings to someone who does not know anything about statistical hypothesis tests."
   ]
  },
  {
   "cell_type": "markdown",
   "metadata": {},
   "source": [
    "There is significant evidence that the proportion of female smokers is different than the proportion of male smokers in the total population. Reviewing the proportions themselves reveals it is likely there are more male smokers than female smokers."
   ]
  },
  {
   "cell_type": "markdown",
   "metadata": {},
   "source": [
    "__Q1b.__ Construct three 95% confidence intervals: one for the proportion of women who smoke, one for the proportion of men who smoke, and one for the difference in the rates of smoking between women and men."
   ]
  },
  {
   "cell_type": "code",
   "execution_count": 18,
   "metadata": {},
   "outputs": [
    {
     "name": "stdout",
     "output_type": "stream",
     "text": [
      "F: 0.288294683866098 , 0.32139576027925865\n",
      "\n",
      "M: 0.49458714955108174 , 0.531929377873546\n"
     ]
    }
   ],
   "source": [
    "zstar = 1.96\n",
    "\n",
    "# Female\n",
    "lcb_f = pf - zstar * sef\n",
    "ucb_f = pf + zstar * sef\n",
    "print(\"F:\", lcb_f, \",\", ucb_f)\n",
    "\n",
    "# Male\n",
    "lcb_m = pm - zstar * sem\n",
    "ucb_m = pm + zstar * sem\n",
    "print(\"\\nM:\", lcb_m, \",\", ucb_m)\n"
   ]
  },
  {
   "cell_type": "markdown",
   "metadata": {},
   "source": [
    "__Q1c.__ Comment on any ways in which the confidence intervals that you found in part b reinforce, contradict, or add support to the hypothesis test conducted in part a."
   ]
  },
  {
   "cell_type": "markdown",
   "metadata": {},
   "source": [
    "The confidence intervals do not overlap, supporting the result that these proportions are different."
   ]
  },
  {
   "cell_type": "markdown",
   "metadata": {},
   "source": [
    "## Question 2\n",
    "\n",
    "Partition the population into two groups based on whether a person has graduated college or not, using the educational attainment variable [DMDEDUC2](https://wwwn.cdc.gov/Nchs/Nhanes/2015-2016/DEMO_I.htm#DMDEDUC2).  Then conduct a test of the null hypothesis that the average heights (in centimeters) of the two groups are equal.  Next, convert the heights from centimeters to inches, and conduct a test of the null hypothesis that the average heights (in inches) of the two groups are equal."
   ]
  },
  {
   "cell_type": "code",
   "execution_count": 42,
   "metadata": {},
   "outputs": [
    {
     "name": "stdout",
     "output_type": "stream",
     "text": [
      "College: 1355 167.855 9.705\n",
      "\n",
      "No College: 4318 165.605 10.135\n",
      "\n",
      "Test: (7.2007656698012505, 5.987537169067422e-13)\n"
     ]
    }
   ],
   "source": [
    "da['BMXHT_in'] = da['BMXHT']/2.54\n",
    "college = da.query('DMDEDUC2x == \"College\"')[['BMXHT','BMXHT_in']].dropna()\n",
    "nocollege = da.query('DMDEDUC2x != \"College\"')[['BMXHT','BMXHT_in']].dropna()\n",
    "\n",
    "n1 = len(college)\n",
    "mu1 = college[\"BMXHT\"].mean()\n",
    "sd1 = college[\"BMXHT\"].std()\n",
    "print(\"College:\", n1, round(mu1,3), round(sd1,3))\n",
    "\n",
    "n2 = len(nocollege)\n",
    "mu2 = nocollege[\"BMXHT\"].mean()\n",
    "sd2 = nocollege[\"BMXHT\"].std()\n",
    "print(\"\\nNo College:\", n2, round(mu2,3), round(sd2,3))\n",
    "\n",
    "# Difference is significant - small pvalue\n",
    "print(\"\\nTest:\",sm.stats.ztest(college[\"BMXHT\"].dropna(), nocollege[\"BMXHT\"].dropna()))\n"
   ]
  },
  {
   "cell_type": "markdown",
   "metadata": {},
   "source": [
    "__Q2a.__ Based on the analysis performed here, are you confident that people who graduated from college have a different average height compared to people who did not graduate from college?"
   ]
  },
  {
   "cell_type": "markdown",
   "metadata": {},
   "source": [
    "Yes the large test statistic and low p-value indicate that height defers between people who graduated college and those that didn't. Comparing the means of the two populations, however, suggest that the difference is likely not large in practicality. There may be underlying factors not accounted for in this analysis (like the gender breakdown of each population) that may explain this result. "
   ]
  },
  {
   "cell_type": "markdown",
   "metadata": {},
   "source": [
    "__Q2b:__ How do the results obtained using the heights expressed in inches compare to the results obtained using the heights expressed in centimeters?"
   ]
  },
  {
   "cell_type": "code",
   "execution_count": 43,
   "metadata": {},
   "outputs": [
    {
     "name": "stdout",
     "output_type": "stream",
     "text": [
      "\n",
      "Test in cm: (7.2007656698012505, 5.987537169067422e-13)\n",
      "\n",
      "Test in in: (7.200765669801254, 5.987537169067249e-13)\n"
     ]
    }
   ],
   "source": [
    "print(\"\\nTest in cm:\",sm.stats.ztest(college[\"BMXHT\"].dropna(), nocollege[\"BMXHT\"].dropna()))\n",
    "print(\"\\nTest in in:\",sm.stats.ztest(college[\"BMXHT_in\"].dropna(), nocollege[\"BMXHT_in\"].dropna()))"
   ]
  },
  {
   "cell_type": "markdown",
   "metadata": {},
   "source": [
    "They are the same."
   ]
  },
  {
   "cell_type": "markdown",
   "metadata": {},
   "source": [
    "## Question 3\n",
    "\n",
    "Conduct a hypothesis test of the null hypothesis that the average BMI for men between 30 and 40 is equal to the average BMI for men between 50 and 60.  Then carry out this test again after log transforming the BMI values."
   ]
  },
  {
   "cell_type": "code",
   "execution_count": 124,
   "metadata": {},
   "outputs": [
    {
     "name": "stdout",
     "output_type": "stream",
     "text": [
      "Men 30-40: 494 29.614 6.657\n",
      "\n",
      "Men 50-60: 495 29.25 6.003\n",
      "\n",
      "Test: (0.8984008016755222, 0.36897190924214873)\n",
      "\n",
      "Test (ln): (0.7057844184100666, 0.4803222133688403)\n"
     ]
    }
   ],
   "source": [
    "m_3040 = da.query('RIAGENDRx == \"Male\" & RIDAGEYR >= 30 & RIDAGEYR <= 40')\n",
    "m_5060 = da.query('RIAGENDRx == \"Male\" & RIDAGEYR >= 50 & RIDAGEYR <= 60')\n",
    "\n",
    "n1 = len(m_3040)\n",
    "mu1 = m_3040[\"BMXBMI\"].mean()\n",
    "sd1 = m_3040[\"BMXBMI\"].std()\n",
    "print(\"Men 30-40:\", n1, round(mu1,3), round(sd1,3))\n",
    "\n",
    "n2 = len(m_5060)\n",
    "mu2 = m_5060[\"BMXBMI\"].mean()\n",
    "sd2 = m_5060[\"BMXBMI\"].std()\n",
    "print(\"\\nMen 50-60:\", n2, round(mu2,3), round(sd2,3))\n",
    "\n",
    "# Difference is not significant - large pvalue\n",
    "print(\"\\nTest:\",sm.stats.ztest(m_3040[\"BMXBMI\"].dropna(), m_5060[\"BMXBMI\"].dropna()))\n",
    "\n",
    "# Log transformation\n",
    "print(\"\\nTest (ln):\",sm.stats.ztest(np.log(m_3040.BMXBMI).dropna(), np.log(m_5060.BMXBMI).dropna()))\n"
   ]
  },
  {
   "cell_type": "markdown",
   "metadata": {},
   "source": [
    "__Q3a.__ How would you characterize the evidence that mean BMI differs between these age bands, and how would you characterize the evidence that mean log BMI differs between these age bands?"
   ]
  },
  {
   "cell_type": "markdown",
   "metadata": {},
   "source": [
    "No, the small test statistic and large p-value indicate that we cannot reject the null hypothesis. Therefore, it is likely the means between men of these two different age groups are not different.\n",
    "\n",
    "The log BMI makes the t-stat larger, providing stronger evidence in favor of no difference between age groups."
   ]
  },
  {
   "cell_type": "markdown",
   "metadata": {},
   "source": [
    "## Question 4\n",
    "\n",
    "Suppose we wish to compare the mean BMI between college graduates and people who have not graduated from college, focusing on women between the ages of 30 and 40.  First, consider the variance of BMI within each of these subpopulations using graphical techniques, and through the estimated subpopulation variances.  Then, calculate pooled and unpooled estimates of the standard error for the difference between the mean BMI in the two populations being compared.  Finally, test the null hypothesis that the two population means are equal, using each of the two different standard errors."
   ]
  },
  {
   "cell_type": "code",
   "execution_count": 55,
   "metadata": {},
   "outputs": [],
   "source": [
    "# Prepare data\n",
    "df = da.query('RIAGENDRx == \"Female\" & RIDAGEYR >= 30 & RIDAGEYR <= 40')[['BMXBMI','DMDEDUC2x']]\n",
    "df[\"College\"] = da.DMDEDUC2x.replace({\"<9\":'No', \"9-11\":'No', \"HS/GED\":'No', \"Some college/AA\":'No',\"College\":'Yes', \n",
    "                                       \"Refused\":np.nan, \"Don't know\":np.nan})"
   ]
  },
  {
   "cell_type": "code",
   "execution_count": 56,
   "metadata": {},
   "outputs": [
    {
     "data": {
      "image/png": "[encoded data removed]",
      "text/plain": [
       "<Figure size 216x432 with 2 Axes>"
      ]
     },
     "metadata": {
      "needs_background": "light"
     },
     "output_type": "display_data"
    }
   ],
   "source": [
    "# Look at variance\n",
    "\n",
    "## Histogram\n",
    "g = sns.FacetGrid(df, row = \"College\") # set up grid\n",
    "g = g.map(plt.hist, \"BMXBMI\") # what to plot within grid\n",
    "plt.show()"
   ]
  },
  {
   "cell_type": "code",
   "execution_count": 57,
   "metadata": {},
   "outputs": [
    {
     "data": {
      "image/png": "[encoded data removed]",
      "text/plain": [
       "<Figure size 432x288 with 1 Axes>"
      ]
     },
     "metadata": {
      "needs_background": "light"
     },
     "output_type": "display_data"
    }
   ],
   "source": [
    "## Box Plot\n",
    "sns.boxplot(x = df[\"BMXBMI\"], y = df[\"College\"])\n",
    "plt.show()"
   ]
  },
  {
   "cell_type": "code",
   "execution_count": 68,
   "metadata": {},
   "outputs": [
    {
     "data": {
      "image/png": "[encoded data removed]",
      "text/plain": [
       "<Figure size 432x288 with 1 Axes>"
      ]
     },
     "metadata": {
      "needs_background": "light"
     },
     "output_type": "display_data"
    },
    {
     "data": {
      "image/png": "[encoded data removed]",
      "text/plain": [
       "<Figure size 432x288 with 1 Axes>"
      ]
     },
     "metadata": {
      "needs_background": "light"
     },
     "output_type": "display_data"
    }
   ],
   "source": [
    "## QQ Plot\n",
    "sm.qqplot(df.loc[df.College == 'Yes', \"BMXBMI\"],line= 'q')\n",
    "sm.qqplot(df.loc[df.College == 'No', \"BMXBMI\"], line= 'q')\n",
    "plt.show()"
   ]
  },
  {
   "cell_type": "code",
   "execution_count": 76,
   "metadata": {},
   "outputs": [
    {
     "name": "stdout",
     "output_type": "stream",
     "text": [
      "College Variance: 53.82741835094558\n",
      "\n",
      "Non College Variance: 67.97035566088928\n"
     ]
    }
   ],
   "source": [
    "# Calculate Variances of each population\n",
    "print(\"College Variance:\",np.var(df.loc[df.College == 'Yes', \"BMXBMI\"]))\n",
    "print(\"\\nNon College Variance:\",np.var(df.loc[df.College == 'No', \"BMXBMI\"]))"
   ]
  },
  {
   "cell_type": "code",
   "execution_count": 111,
   "metadata": {},
   "outputs": [
    {
     "name": "stdout",
     "output_type": "stream",
     "text": [
      "STD of each population: 7.358264076777769 8.256082984290918\n",
      "\n",
      "Pooled: -4.643908450956404 3.4187910067120066e-06\n",
      "\n",
      "Unpooled: -4.833662355599082 1.3404386169205152e-06\n"
     ]
    }
   ],
   "source": [
    "# Divide samples\n",
    "c = df.loc[df.College == \"Yes\",'BMXBMI'].dropna()\n",
    "nc = df.loc[df.College == \"No\",'BMXBMI'].dropna()\n",
    "\n",
    "# Calc n, mu, and sd for future calcs\n",
    "n_c = len(c)\n",
    "n_nc = len(nc)\n",
    "\n",
    "mu_c = c.mean()\n",
    "mu_nc = nc.mean()\n",
    "mu_diff = mu_c - mu_nc\n",
    "\n",
    "sd_c = c.std()\n",
    "sd_nc = nc.std()\n",
    "\n",
    "print(\"STD of each population:\",sd_c,sd_nc)\n",
    "\n",
    "# SE for difference in means\n",
    "## Pooled\n",
    "sep = np.sqrt(((n_c - 1) * sd_c**2 + (n_nc - 1) * sd_nc**2) / (n_c + n_nc - 2)) * np.sqrt(1/n_c + 1/n_nc)\n",
    "\n",
    "## Unpooled\n",
    "seu = np.sqrt(sd_c**2/n_c + sd_nc**2/n_nc)\n",
    "\n",
    "# Test null hypo that mean difference is o\n",
    "## Pooled\n",
    "tstatp = mu_diff / sep\n",
    "pvalp = 2*dist.norm.cdf(-np.abs(tstatp))\n",
    "print(\"\\nPooled:\", tstatp,pvalp)\n",
    "\n",
    "## Unpooled\n",
    "tstatu = mu_diff / seu\n",
    "pvalu = 2*dist.norm.cdf(-np.abs(tstatu))\n",
    "print(\"\\nUnpooled:\", tstatu,pvalu)"
   ]
  },
  {
   "cell_type": "markdown",
   "metadata": {},
   "source": [
    "__Q4a.__ Comment on the strength of evidence against the null hypothesis that these two populations have equal mean BMI."
   ]
  },
  {
   "cell_type": "markdown",
   "metadata": {},
   "source": [
    "Both versions of the test support the rejection of the null hypothesis. These two populations have different average BMIs."
   ]
  },
  {
   "cell_type": "markdown",
   "metadata": {},
   "source": [
    "__Q4b.__ Comment on the degree to which the two populations have different variances, and on the extent to which the results using different approaches to estimating the standard error of the mean difference give divergent results."
   ]
  },
  {
   "cell_type": "markdown",
   "metadata": {},
   "source": [
    "Because the non-college population has greater variance than the college population, the unpooled test is more appropriate."
   ]
  },
  {
   "cell_type": "markdown",
   "metadata": {},
   "source": [
    "## Question 5\n",
    "\n",
    "Conduct a test of the null hypothesis that the first and second diastolic blood pressure measurements within a subject have the same mean values."
   ]
  },
  {
   "cell_type": "code",
   "execution_count": 147,
   "metadata": {},
   "outputs": [
    {
     "data": {
      "text/plain": [
       "(4.140387087476657, 3.4672024397449396e-05)"
      ]
     },
     "execution_count": 147,
     "metadata": {},
     "output_type": "execute_result"
    }
   ],
   "source": [
    "# Population Mean Difference - Paired Data\n",
    "dp = da[['BPXDI1', 'BPXDI2']].dropna()\n",
    "\n",
    "# Calc Difference\n",
    "dp.loc[:,'diff'] = da.BPXDI1 - da.BPXDI2\n",
    "\n",
    "# Get mean & std & n\n",
    "xbar = dp['diff'].mean()\n",
    "sd = dp['diff'].std()\n",
    "n = len(dp)\n",
    "\n",
    "# Run Test\n",
    "tstat = xbar / (sd / np.sqrt(n))\n",
    "pval = 2*dist.norm.cdf(-np.abs(tstat))\n",
    "\n",
    "(tstat,pval)"
   ]
  },
  {
   "cell_type": "markdown",
   "metadata": {},
   "source": [
    "__Q5a.__ Briefly describe your findings for an audience that is not familiar with statistical hypothesis testing."
   ]
  },
  {
   "cell_type": "markdown",
   "metadata": {},
   "source": [
    "We ran a statistical test to determine if the difference between the first and second measure of diastolic blood pressure is statistically significant. Our results show a large test statistic and low p-value, indicating that it is very unlikely that this sample data would appear under the assumption that there is no difference between these two measures. The evidence supports the rejection of this null hypothesis. The two measures are likely different."
   ]
  },
  {
   "cell_type": "markdown",
   "metadata": {},
   "source": [
    "__Q5b.__ Pretend that the first and second diastolic blood pressure measurements were taken on different people.  Modfify the analysis above as appropriate for this setting."
   ]
  },
  {
   "cell_type": "code",
   "execution_count": 148,
   "metadata": {},
   "outputs": [
    {
     "name": "stdout",
     "output_type": "stream",
     "text": [
      "STD of each population: 12.849040103962954 12.879691357993343\n"
     ]
    }
   ],
   "source": [
    "# Calc n, mu, and sd for future calcs\n",
    "n1 = len(dp.BPXDI1)\n",
    "n2 = len(dp.BPXDI2)\n",
    "\n",
    "mu1 = dp.BPXDI1.mean()\n",
    "mu2 = dp.BPXDI2.mean()\n",
    "mu_diff = mu1 - mu2\n",
    "\n",
    "sd1 = dp.BPXDI1.std()\n",
    "sd2 = dp.BPXDI2.std()\n",
    "\n",
    "## very similar - can use pooled approach\n",
    "print(\"STD of each population:\",sd1,sd2) "
   ]
  },
  {
   "cell_type": "code",
   "execution_count": 149,
   "metadata": {},
   "outputs": [
    {
     "name": "stdout",
     "output_type": "stream",
     "text": [
      "\n",
      "Pooled: 0.46994475431133226 0.6383944883957321\n"
     ]
    }
   ],
   "source": [
    "# SE for difference in means\n",
    "## Pooled\n",
    "sep = np.sqrt(((n_c - 1) * sd_c**2 + (n_nc - 1) * sd_nc**2) / (n_c + n_nc - 2)) * np.sqrt(1/n_c + 1/n_nc)\n",
    "\n",
    "# Test null hypo that mean difference is o\n",
    "## Pooled\n",
    "tstatp = mu_diff / sep\n",
    "pvalp = 2*dist.norm.cdf(-np.abs(tstatp))\n",
    "print(\"\\nPooled:\", tstatp,pvalp)"
   ]
  },
  {
   "cell_type": "markdown",
   "metadata": {},
   "source": [
    "__Q5c.__ Briefly describe how the approaches used and the results obtained in the preceeding two parts of the question differ."
   ]
  },
  {
   "cell_type": "markdown",
   "metadata": {},
   "source": [
    "When the two measures are treated as coming from different people, the results do not indicate a significant difference. The variance across people in the sample for each measure is folded into this analysis. The mean across the sample of each measure, therefore, is similar.\n",
    "\n",
    "Paired data, however, compares each measure within a single subject. This controls for a lot of factors that may result in variance across a population. Therefore, differences between measures in the same person are more directly measured and not obsficated by the entire sample's variance."
   ]
  }
 ],
 "metadata": {
  "kernelspec": {
   "display_name": "Python 3",
   "language": "python",
   "name": "python3"
  },
  "language_info": {
   "codemirror_mode": {
    "name": "ipython",
    "version": 3
   },
   "file_extension": ".py",
   "mimetype": "text/x-python",
   "name": "python",
   "nbconvert_exporter": "python",
   "pygments_lexer": "ipython3",
   "version": "3.7.4"
  }
 },
 "nbformat": 4,
 "nbformat_minor": 2
}
